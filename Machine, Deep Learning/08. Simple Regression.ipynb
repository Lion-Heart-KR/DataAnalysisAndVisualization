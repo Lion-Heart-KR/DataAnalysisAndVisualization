{
 "cells": [
  {
   "cell_type": "markdown",
   "id": "c30bfedc",
   "metadata": {},
   "source": [
    "# 8. Simple Regression"
   ]
  },
  {
   "cell_type": "code",
   "execution_count": 42,
   "id": "695954c1",
   "metadata": {},
   "outputs": [],
   "source": [
    "import numpy as np\n",
    "\n",
    "#초기 데이터\n",
    "x_data = np.array([1,2,3,4,5]).reshape(5,1)\n",
    "t_data = np.array([2,3,4,5,6]).reshape(5,1)"
   ]
  },
  {
   "cell_type": "code",
   "execution_count": 2,
   "id": "ce0cfd27",
   "metadata": {},
   "outputs": [
    {
     "name": "stdout",
     "output_type": "stream",
     "text": [
      "W =  [[0.79944403]] W.shape =  (1, 1) b =  [0.0294241] b.shape =  (1,)\n"
     ]
    }
   ],
   "source": [
    "#임의의 W와 b값을 rand함수로 고른다.\n",
    "W = np.random.rand(1,1)\n",
    "b = np.random.rand(1)\n",
    "print(\"W = \", W, \"W.shape = \", W.shape, \"b = \", b, \"b.shape = \", b.shape)"
   ]
  },
  {
   "cell_type": "code",
   "execution_count": 27,
   "id": "dc04d316",
   "metadata": {},
   "outputs": [],
   "source": [
    "#손실함수\n",
    "def error_val(x, t):\n",
    "    y = np.dot(x, W) + b\n",
    "    \n",
    "    return (np.sum(((t-y)**2)/(len(x))))\n",
    "\n",
    "#손실함수\n",
    "def loss_func(x, t):\n",
    "    y = np.dot(x, W) + b\n",
    "    \n",
    "    return (np.sum(((t-y)**2)/(len(x))))"
   ]
  },
  {
   "cell_type": "code",
   "execution_count": 4,
   "id": "503b5b9e",
   "metadata": {},
   "outputs": [],
   "source": [
    "#다변수 함수를 미분하는 함수\n",
    "def numerical_derivative(f, x):\n",
    "    delta_x = 1e-5\n",
    "    grad = np.zeros_like(x)\n",
    "    \n",
    "    it = np.nditer(x, flags=['multi_index'], op_flags=['readwrite'])\n",
    "    \n",
    "    #각 변수들에 대해서 다른 값은 상수로 두고, 미분을 한다.\n",
    "    while not it.finished:\n",
    "        idx = it.multi_index\n",
    "        tmp_val = x[idx]\n",
    "        x[idx] = float(tmp_val)+delta_x\n",
    "        fx1 = f(x)\n",
    "        \n",
    "        x[idx] = tmp_val - delta_x\n",
    "        fx2 = f(x)\n",
    "        grad[idx] = (fx1-fx2)/(2*delta_x)\n",
    "        \n",
    "        x[idx] = tmp_val\n",
    "        it.iternext()\n",
    "        \n",
    "    return grad"
   ]
  },
  {
   "cell_type": "code",
   "execution_count": 5,
   "id": "7eb53679",
   "metadata": {},
   "outputs": [],
   "source": [
    "#학습된 프로그램으로 y를 예측\n",
    "def predict(x):\n",
    "    y = np.dot(x,W)+b\n",
    "    return y"
   ]
  },
  {
   "cell_type": "code",
   "execution_count": 11,
   "id": "d2c4b77f",
   "metadata": {},
   "outputs": [
    {
     "name": "stdout",
     "output_type": "stream",
     "text": [
      " initial error value =  9.949449051065161e-05 \n",
      " initial W = [[1.00647733]] \n",
      " initial b =  [0.97662049]\n",
      "step =  0 error_value =  9.88123401548469e-05 W =  [[1.00645509]] b =  [0.97670078]\n",
      "step =  400 error_value =  6.304811477815641e-06 W =  [[1.00163054]] b =  [0.99411466]\n",
      "step =  800 error_value =  4.0228424616430366e-07 W =  [[1.00041187]] b =  [0.99851337]\n",
      "step =  1200 error_value =  2.566811319902893e-08 W =  [[1.00010404]] b =  [0.99962448]\n",
      "step =  1600 error_value =  1.6377773713039007e-09 W =  [[1.00002628]] b =  [0.99990514]\n",
      "step =  2000 error_value =  1.0449987878634017e-10 W =  [[1.00000664]] b =  [0.99997604]\n",
      "step =  2400 error_value =  6.667710066913286e-12 W =  [[1.00000168]] b =  [0.99999395]\n",
      "step =  2800 error_value =  4.2543932135454554e-13 W =  [[1.00000042]] b =  [0.99999847]\n",
      "step =  3200 error_value =  2.714554386966878e-14 W =  [[1.00000011]] b =  [0.99999961]\n",
      "step =  3600 error_value =  1.7320461423475713e-15 W =  [[1.00000003]] b =  [0.9999999]\n",
      "step =  4000 error_value =  1.1051477761634849e-16 W =  [[1.00000001]] b =  [0.99999998]\n",
      "step =  4400 error_value =  7.051494280525164e-18 W =  [[1.]] b =  [0.99999999]\n",
      "step =  4800 error_value =  4.499265411962204e-19 W =  [[1.]] b =  [1.]\n",
      "step =  5200 error_value =  2.8707911495839635e-20 W =  [[1.]] b =  [1.]\n",
      "step =  5600 error_value =  1.831735569589873e-21 W =  [[1.]] b =  [1.]\n",
      "step =  6000 error_value =  1.1687126004857058e-22 W =  [[1.]] b =  [1.]\n",
      "step =  6400 error_value =  7.457714056458404e-24 W =  [[1.]] b =  [1.]\n",
      "step =  6800 error_value =  4.7681175900613115e-25 W =  [[1.]] b =  [1.]\n",
      "step =  7200 error_value =  3.0536884527195894e-26 W =  [[1.]] b =  [1.]\n",
      "step =  7600 error_value =  1.942964409559352e-27 W =  [[1.]] b =  [1.]\n",
      "step =  8000 error_value =  1.6743572713315976e-28 W =  [[1.]] b =  [1.]\n"
     ]
    }
   ],
   "source": [
    "learning_rate = 1e-2\n",
    "f = lambda x : loss_func(x_data, t_data)\n",
    "print(' initial error value = ', error_val(x_data, t_data), '\\n initial W =', W, '\\n', 'initial b = ', b)\n",
    "\n",
    "for step in range(8001):\n",
    "    W -= learning_rate*numerical_derivative(f, W)\n",
    "    b -= learning_rate*numerical_derivative(f, b)\n",
    "    \n",
    "    if(step % 400 == 0):\n",
    "        #error_val는 업데이트 된 W와 b로 오차를 계산해 준다.\n",
    "        print('step = ', step, 'error_value = ', error_val(x_data, t_data), 'W = ', W, 'b = ', b)"
   ]
  },
  {
   "cell_type": "code",
   "execution_count": 14,
   "id": "d6d7ff09",
   "metadata": {},
   "outputs": [
    {
     "data": {
      "text/plain": [
       "array([[501.]])"
      ]
     },
     "execution_count": 14,
     "metadata": {},
     "output_type": "execute_result"
    }
   ],
   "source": [
    "predict(500)"
   ]
  },
  {
   "cell_type": "code",
   "execution_count": 43,
   "id": "1ba0eb07",
   "metadata": {},
   "outputs": [],
   "source": [
    "loaded_data = np.loadtxt('./test01.csv', delimiter=',', dtype=np.float32)\n",
    "\n",
    "x_data = loaded_data[ : , 0:-1]\n",
    "t_data = loaded_data[ : , -1:]"
   ]
  },
  {
   "cell_type": "code",
   "execution_count": 50,
   "id": "f0d3b1c0",
   "metadata": {},
   "outputs": [
    {
     "name": "stdout",
     "output_type": "stream",
     "text": [
      "W =  [[0.82789623]\n",
      " [0.93846849]\n",
      " [0.3312552 ]] W.shape =  (3, 1) b =  [0.90173755] b.shape =  (1,)\n"
     ]
    }
   ],
   "source": [
    "W = np.random.rand(3,1) #3행 1열 행렬\n",
    "b = np.random.rand(1)\n",
    "print(\"W = \", W, \"W.shape = \", W.shape, \"b = \", b, \"b.shape = \", b.shape)\n"
   ]
  },
  {
   "cell_type": "code",
   "execution_count": 64,
   "id": "c19e242b",
   "metadata": {},
   "outputs": [
    {
     "name": "stdout",
     "output_type": "stream",
     "text": [
      "W =  [[0.14739534]\n",
      " [0.26532433]\n",
      " [0.45938322]] W.shape =  (3, 1) b =  [0.87014623] b.shape =  (1,)\n",
      " initial error value =  8470.2569123299 \n",
      " initial W = [[0.14739534]\n",
      " [0.26532433]\n",
      " [0.45938322]] \n",
      " initial b =  [0.87014623]\n",
      "step =  0 error_value =  3137.1148029442124 W = \n",
      " [[0.29434383]\n",
      " [0.41305875]\n",
      " [0.61073976]] b =  [0.87125247]\n",
      "step =  400 error_value =  7.872021701065158 W = \n",
      " [[0.50576216]\n",
      " [0.6181546 ]\n",
      " [0.88520686]] b =  [0.87246947]\n",
      "step =  800 error_value =  7.43269735204714 W = \n",
      " [[0.4908468 ]\n",
      " [0.59842249]\n",
      " [0.91899144]] b =  [0.8719249]\n",
      "step =  1200 error_value =  7.1170402971196305 W = \n",
      " [[0.47745927]\n",
      " [0.58238396]\n",
      " [0.94768222]] b =  [0.87134339]\n",
      "step =  1600 error_value =  6.889444916101928 W = \n",
      " [[0.46543648]\n",
      " [0.56939174]\n",
      " [0.97207017]] b =  [0.87073051]\n",
      "step =  2000 error_value =  6.724707421957266 W = \n",
      " [[0.45463372]\n",
      " [0.55890833]\n",
      " [0.99282111]] b =  [0.87009094]\n",
      "step =  2400 error_value =  6.604958728005352 W = \n",
      " [[0.4449225 ]\n",
      " [0.55048771]\n",
      " [1.01049572]] b =  [0.86942863]\n",
      "step =  2800 error_value =  6.517506964904631 W = \n",
      " [[0.43618856]\n",
      " [0.5437601 ]\n",
      " [1.02556637]] b =  [0.86874696]\n",
      "step =  3200 error_value =  6.453318896090524 W = \n",
      " [[0.42833022]\n",
      " [0.53841914]\n",
      " [1.03843122]] b =  [0.86804877]\n",
      "step =  3600 error_value =  6.405950244567244 W = \n",
      " [[0.42125688]\n",
      " [0.53421131]\n",
      " [1.04942601]] b =  [0.86733648]\n",
      "step =  4000 error_value =  6.370791584342389 W = \n",
      " [[0.41488776]\n",
      " [0.53092701]\n",
      " [1.05883406]] b =  [0.86661212]\n",
      "step =  4400 error_value =  6.3445361777358045 W = \n",
      " [[0.40915076]\n",
      " [0.52839318]\n",
      " [1.06689454]] b =  [0.86587745]\n",
      "step =  4800 error_value =  6.3248040100353595 W = \n",
      " [[0.40398147]\n",
      " [0.5264671 ]\n",
      " [1.07380951]] b =  [0.86513394]\n",
      "step =  5200 error_value =  6.309875828686476 W = \n",
      " [[0.3993223 ]\n",
      " [0.52503123]\n",
      " [1.07974976]] b =  [0.86438286]\n",
      "step =  5600 error_value =  6.298504719017284 W = \n",
      " [[0.39512172]\n",
      " [0.52398896]\n",
      " [1.08485977]] b =  [0.86362527]\n",
      "step =  6000 error_value =  6.289782383667883 W = \n",
      " [[0.3913336 ]\n",
      " [0.52326102]\n",
      " [1.08926182]] b =  [0.86286209]\n",
      "step =  6400 error_value =  6.283044059124501 W = \n",
      " [[0.38791661]\n",
      " [0.52278248]\n",
      " [1.09305954]] b =  [0.86209412]\n",
      "step =  6800 error_value =  6.277800756118296 W = \n",
      " [[0.38483369]\n",
      " [0.52250029]\n",
      " [1.09634076]] b =  [0.861322]\n",
      "step =  7200 error_value =  6.2736908512822485 W = \n",
      " [[0.38205158]\n",
      " [0.52237125]\n",
      " [1.09918003]] b =  [0.86054633]\n",
      "step =  7600 error_value =  6.2704454065068385 W = \n",
      " [[0.37954043]\n",
      " [0.52236023]\n",
      " [1.10164065]] b =  [0.85976758]\n",
      "step =  8000 error_value =  6.267863245088714 W = \n",
      " [[0.37727345]\n",
      " [0.52243883]\n",
      " [1.10377645]] b =  [0.85898618]\n",
      "step =  8400 error_value =  6.265792977321937 W = \n",
      " [[0.37522653]\n",
      " [0.52258411]\n",
      " [1.10563322]] b =  [0.85820249]\n",
      "step =  8800 error_value =  6.26411998798397 W = \n",
      " [[0.37337804]\n",
      " [0.52277769]\n",
      " [1.10725   ]] b =  [0.85741683]\n",
      "step =  9200 error_value =  6.262756976305142 W = \n",
      " [[0.37170848]\n",
      " [0.52300489]\n",
      " [1.10866004]] b =  [0.85662946]\n",
      "step =  9600 error_value =  6.261637047144489 W = \n",
      " [[0.37020032]\n",
      " [0.52325407]\n",
      " [1.10989175]] b =  [0.85584061]\n",
      "step =  10000 error_value =  6.260708640548186 W = \n",
      " [[0.3688378 ]\n",
      " [0.52351606]\n",
      " [1.11096942]] b =  [0.85505049]\n",
      "step =  10400 error_value =  6.25993179102509 W = \n",
      " [[0.36760671]\n",
      " [0.52378375]\n",
      " [1.11191381]] b =  [0.85425927]\n",
      "step =  10800 error_value =  6.2592753525883325 W = \n",
      " [[0.36649424]\n",
      " [0.52405162]\n",
      " [1.11274275]] b =  [0.85346709]\n",
      "step =  11200 error_value =  6.25871492837756 W = \n",
      " [[0.36548887]\n",
      " [0.52431552]\n",
      " [1.11347149]] b =  [0.8526741]\n",
      "step =  11600 error_value =  6.258231316801775 W = \n",
      " [[0.36458019]\n",
      " [0.52457236]\n",
      " [1.11411317]] b =  [0.85188039]\n",
      "step =  12000 error_value =  6.257809338293845 W = \n",
      " [[0.36375884]\n",
      " [0.52481991]\n",
      " [1.11467907]] b =  [0.85108608]\n",
      "step =  12400 error_value =  6.257436944061945 W = \n",
      " [[0.36301637]\n",
      " [0.52505661]\n",
      " [1.11517891]] b =  [0.85029124]\n",
      "step =  12800 error_value =  6.257104534964718 W = \n",
      " [[0.36234514]\n",
      " [0.52528146]\n",
      " [1.11562109]] b =  [0.84949596]\n",
      "step =  13200 error_value =  6.256804437879355 W = \n",
      " [[0.36173829]\n",
      " [0.5254939 ]\n",
      " [1.11601286]] b =  [0.8487003]\n",
      "step =  13600 error_value =  6.256530500826973 W = \n",
      " [[0.36118959]\n",
      " [0.52569366]\n",
      " [1.11636049]] b =  [0.84790431]\n",
      "step =  14000 error_value =  6.256277778188194 W = \n",
      " [[0.36069346]\n",
      " [0.52588077]\n",
      " [1.1166694 ]] b =  [0.84710805]\n",
      "step =  14400 error_value =  6.256042284679063 W = \n",
      " [[0.36024482]\n",
      " [0.52605543]\n",
      " [1.11694433]] b =  [0.84631156]\n",
      "step =  14800 error_value =  6.255820802118298 W = \n",
      " [[0.35983911]\n",
      " [0.52621799]\n",
      " [1.11718936]] b =  [0.84551488]\n",
      "step =  15200 error_value =  6.255610726962431 W = \n",
      " [[0.35947221]\n",
      " [0.52636889]\n",
      " [1.11740807]] b =  [0.84471805]\n",
      "step =  15600 error_value =  6.255409949498792 W = \n",
      " [[0.35914039]\n",
      " [0.52650867]\n",
      " [1.11760356]] b =  [0.84392109]\n",
      "step =  16000 error_value =  6.255216757753853 W = \n",
      " [[0.35884028]\n",
      " [0.52663788]\n",
      " [1.11777855]] b =  [0.84312403]\n",
      "step =  16400 error_value =  6.25502976079186 W = \n",
      " [[0.35856884]\n",
      " [0.52675712]\n",
      " [1.11793543]] b =  [0.8423269]\n",
      "step =  16800 error_value =  6.254847827298627 W = \n",
      " [[0.35832333]\n",
      " [0.526867  ]\n",
      " [1.11807625]] b =  [0.84152972]\n",
      "step =  17200 error_value =  6.2546700362654395 W = \n",
      " [[0.35810126]\n",
      " [0.52696812]\n",
      " [1.11820286]] b =  [0.84073251]\n",
      "step =  17600 error_value =  6.254495637289533 W = \n",
      " [[0.35790038]\n",
      " [0.52706107]\n",
      " [1.11831685]] b =  [0.83993527]\n",
      "step =  18000 error_value =  6.254324018544964 W = \n",
      " [[0.35771867]\n",
      " [0.52714643]\n",
      " [1.11841963]] b =  [0.83913804]\n"
     ]
    }
   ],
   "source": [
    "W = np.random.rand(3,1) #3행 1열 행렬\n",
    "b = np.random.rand(1)\n",
    "print(\"W = \", W, \"W.shape = \", W.shape, \"b = \", b, \"b.shape = \", b.shape)\n",
    "\n",
    "learning_rate = 1e-5\n",
    "f = lambda x : loss_func(x_data, t_data)\n",
    "print(' initial error value = ', error_val(x_data, t_data), '\\n initial W =', W, '\\n', 'initial b = ', b)\n",
    "\n",
    "for step in range(18001):\n",
    "    W -= learning_rate*numerical_derivative(f, W)\n",
    "    b -= learning_rate*numerical_derivative(f, b)\n",
    "    \n",
    "    if(step % 400 == 0):\n",
    "        #error_val는 업데이트 된 W와 b로 오차를 계산해 준다.\n",
    "        print('step = ', step, 'error_value = ', error_val(x_data, t_data), 'W = \\n', W, 'b = ', b)"
   ]
  },
  {
   "cell_type": "code",
   "execution_count": 66,
   "id": "916ffadf",
   "metadata": {},
   "outputs": [
    {
     "data": {
      "text/plain": [
       "array([178.8633459])"
      ]
     },
     "execution_count": 66,
     "metadata": {},
     "output_type": "execute_result"
    }
   ],
   "source": [
    "predict(np.array([100,98,81]))"
   ]
  }
 ],
 "metadata": {
  "kernelspec": {
   "display_name": "Python 3 (ipykernel)",
   "language": "python",
   "name": "python3"
  },
  "language_info": {
   "codemirror_mode": {
    "name": "ipython",
    "version": 3
   },
   "file_extension": ".py",
   "mimetype": "text/x-python",
   "name": "python",
   "nbconvert_exporter": "python",
   "pygments_lexer": "ipython3",
   "version": "3.9.7"
  }
 },
 "nbformat": 4,
 "nbformat_minor": 5
}
