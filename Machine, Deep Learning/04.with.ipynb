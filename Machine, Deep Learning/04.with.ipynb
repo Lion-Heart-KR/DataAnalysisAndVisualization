{
 "cells": [
  {
   "cell_type": "markdown",
   "id": "c424a523",
   "metadata": {},
   "source": [
    "# 4.with"
   ]
  },
  {
   "cell_type": "code",
   "execution_count": 21,
   "id": "db3ceafb",
   "metadata": {},
   "outputs": [],
   "source": [
    "matrix_quotes = [\"The Matrix is the world that has been pulled over your eyes to blind you from the truth.\\n\", \n",
    "                 \"You have to let it all go, Neo. Fear, doubt, and disblief. Free your mind.\\n\", \n",
    "                 \"There is a difference between knowing the path and walking the path.\\n\", \n",
    "                 \"Welcom to the desert of the real!\\n\"]\n",
    "\n",
    "\n",
    "with open('test.txt', 'w') as f:\n",
    "    f.write(matrix_quotes[0])"
   ]
  },
  {
   "cell_type": "code",
   "execution_count": 16,
   "id": "7c8b0bd9",
   "metadata": {},
   "outputs": [],
   "source": [
    "matrix_quotes = [\"The Matrix is the world that has been pulled over your eyes to blind you from the truth.\\n\", \n",
    "                 \"You have to let it all go, Neo. Fear, doubt, and disblief. Free your mind.\\n\", \n",
    "                 \"There is a difference between knowing the path and walking the path.\\n\", \n",
    "                 \"Welcom to the desert of the real!\\n\"]\n",
    "\n",
    "\n",
    "with open('test.txt', 'w') as f:\n",
    "    f.writelines(matrix_quotes)"
   ]
  },
  {
   "cell_type": "code",
   "execution_count": 23,
   "id": "84a75b1f",
   "metadata": {},
   "outputs": [
    {
     "ename": "SyntaxError",
     "evalue": "invalid syntax (Temp/ipykernel_12696/3919385919.py, line 2)",
     "output_type": "error",
     "traceback": [
      "\u001b[1;36m  File \u001b[1;32m\"C:\\Users\\sungw\\AppData\\Local\\Temp/ipykernel_12696/3919385919.py\"\u001b[1;36m, line \u001b[1;32m2\u001b[0m\n\u001b[1;33m    func = lambda x, f, str : f.write(i) for i in str\u001b[0m\n\u001b[1;37m                                         ^\u001b[0m\n\u001b[1;31mSyntaxError\u001b[0m\u001b[1;31m:\u001b[0m invalid syntax\n"
     ]
    }
   ],
   "source": [
    "numberList=[x for x in range(10)]\n",
    "func = lambda x, f, str : f.write(i) for i in str\n",
    "with open('numbers.txt', 'w') as n:\n",
    "    n.write(str(numberList[0]))"
   ]
  }
 ],
 "metadata": {
  "kernelspec": {
   "display_name": "Python 3 (ipykernel)",
   "language": "python",
   "name": "python3"
  },
  "language_info": {
   "codemirror_mode": {
    "name": "ipython",
    "version": 3
   },
   "file_extension": ".py",
   "mimetype": "text/x-python",
   "name": "python",
   "nbconvert_exporter": "python",
   "pygments_lexer": "ipython3",
   "version": "3.9.7"
  }
 },
 "nbformat": 4,
 "nbformat_minor": 5
}
