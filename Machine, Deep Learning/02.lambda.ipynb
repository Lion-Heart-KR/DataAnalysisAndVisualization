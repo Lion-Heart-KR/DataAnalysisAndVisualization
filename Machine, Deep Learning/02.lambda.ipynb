{
 "cells": [
  {
   "cell_type": "markdown",
   "id": "860ef505",
   "metadata": {},
   "source": [
    "# 2.lambda"
   ]
  },
  {
   "cell_type": "code",
   "execution_count": 1,
   "id": "8dda3534",
   "metadata": {},
   "outputs": [
    {
     "data": {
      "text/plain": [
       "3"
      ]
     },
     "execution_count": 1,
     "metadata": {},
     "output_type": "execute_result"
    }
   ],
   "source": [
    "f=lambda x,y : x+y\n",
    "f(1,2)"
   ]
  },
  {
   "cell_type": "code",
   "execution_count": 17,
   "id": "baa45f81",
   "metadata": {},
   "outputs": [
    {
     "data": {
      "text/plain": [
       "8"
      ]
     },
     "execution_count": 17,
     "metadata": {},
     "output_type": "execute_result"
    }
   ],
   "source": [
    "def func(x, y):\n",
    "    return x*y\n",
    "\n",
    "x=2\n",
    "y=4\n",
    "f = lambda x : func(x,y)\n",
    "f(x)"
   ]
  },
  {
   "cell_type": "code",
   "execution_count": 4,
   "id": "b78fb5a6",
   "metadata": {},
   "outputs": [
    {
     "name": "stdout",
     "output_type": "stream",
     "text": [
      "item x : 10\n",
      "item y : 20\n"
     ]
    }
   ],
   "source": [
    "def print_data(x,y):\n",
    "    print('item x :', x)\n",
    "    print('item y :', y)\n",
    "\n",
    "print_data(10,20)"
   ]
  },
  {
   "cell_type": "code",
   "execution_count": 3,
   "id": "505c6b08",
   "metadata": {},
   "outputs": [
    {
     "name": "stdout",
     "output_type": "stream",
     "text": [
      "item x : 1\n",
      "item y : 2\n"
     ]
    }
   ],
   "source": [
    "f = lambda x,y : print_data(x,y)\n",
    "s=2\n",
    "t=3\n",
    "f(1,2)"
   ]
  },
  {
   "cell_type": "code",
   "execution_count": 22,
   "id": "c52f8b32",
   "metadata": {},
   "outputs": [
    {
     "name": "stdout",
     "output_type": "stream",
     "text": [
      "item x : 2\n",
      "item y : 2\n"
     ]
    }
   ],
   "source": [
    "f = lambda x,y: print_data(s,t)\n",
    "s=2\n",
    "t=2\n",
    "f(1,2)"
   ]
  },
  {
   "cell_type": "code",
   "execution_count": 11,
   "id": "647aa8f1",
   "metadata": {},
   "outputs": [
    {
     "name": "stdout",
     "output_type": "stream",
     "text": [
      "1 2 3\n"
     ]
    }
   ],
   "source": [
    "f = lambda x,y,z : print(x,y,z)\n",
    "f(1,2,3)"
   ]
  },
  {
   "cell_type": "code",
   "execution_count": 34,
   "id": "60211bc6",
   "metadata": {},
   "outputs": [],
   "source": [
    "def function_send(f, x):\n",
    "    f(x)"
   ]
  },
  {
   "cell_type": "code",
   "execution_count": 36,
   "id": "44dca425",
   "metadata": {},
   "outputs": [
    {
     "name": "stdout",
     "output_type": "stream",
     "text": [
      "item x : 4\n",
      "item y : 5\n"
     ]
    }
   ],
   "source": [
    "f = lambda x : print_data(4,5)\n",
    "function_send(f, 1)"
   ]
  }
 ],
 "metadata": {
  "kernelspec": {
   "display_name": "Python 3 (ipykernel)",
   "language": "python",
   "name": "python3"
  },
  "language_info": {
   "codemirror_mode": {
    "name": "ipython",
    "version": 3
   },
   "file_extension": ".py",
   "mimetype": "text/x-python",
   "name": "python",
   "nbconvert_exporter": "python",
   "pygments_lexer": "ipython3",
   "version": "3.9.7"
  }
 },
 "nbformat": 4,
 "nbformat_minor": 5
}
