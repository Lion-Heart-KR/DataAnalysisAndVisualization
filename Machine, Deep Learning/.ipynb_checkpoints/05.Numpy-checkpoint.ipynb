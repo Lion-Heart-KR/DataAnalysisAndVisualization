{
 "cells": [
  {
   "cell_type": "markdown",
   "id": "f70f9704",
   "metadata": {},
   "source": [
    "# 05.Numpy"
   ]
  },
  {
   "cell_type": "code",
   "execution_count": 1,
   "id": "ae1445c6",
   "metadata": {},
   "outputs": [],
   "source": [
    "import numpy as np"
   ]
  },
  {
   "cell_type": "markdown",
   "id": "30143011",
   "metadata": {},
   "source": [
    "## 행렬 연산(np.array)"
   ]
  },
  {
   "cell_type": "code",
   "execution_count": 2,
   "id": "c429dce7",
   "metadata": {},
   "outputs": [
    {
     "name": "stdout",
     "output_type": "stream",
     "text": [
      "[[2 1]\n",
      " [1 1]]\n"
     ]
    }
   ],
   "source": [
    "#행렬으로 표현해준다.\n",
    "A = np.array([ [1,0], [0,1] ])\n",
    "B = np.array([ [1,1], [1,0] ])\n",
    "\n",
    "print(A+B)"
   ]
  },
  {
   "cell_type": "code",
   "execution_count": 3,
   "id": "784c0b36",
   "metadata": {},
   "outputs": [
    {
     "data": {
      "text/plain": [
       "[[1, 0], [0, 1], [1, 1], [1, 0]]"
      ]
     },
     "execution_count": 3,
     "metadata": {},
     "output_type": "execute_result"
    }
   ],
   "source": [
    "# 일반 list의 경우 단순히 이어붙이기만 한다.\n",
    "A_list = [[1,0], [0,1]]\n",
    "B_list = [[1,1], [1,0]]\n",
    "A_list+B_list"
   ]
  },
  {
   "cell_type": "code",
   "execution_count": 4,
   "id": "ad6bbf4a",
   "metadata": {},
   "outputs": [
    {
     "name": "stdout",
     "output_type": "stream",
     "text": [
      "A ==  [1 2 3] B ==  [4 5 6]\n",
      "A.shape ==  (3,) B.shape ==  (3,)\n",
      "dimension of A :  1 dimension of B :  1\n"
     ]
    }
   ],
   "source": [
    "A = np.array([1,2,3])\n",
    "B = np.array([4,5,6])\n",
    "\n",
    "print(\"A == \", A, \"B == \", B)\n",
    "print(\"A.shape == \", A.shape, \"B.shape == \", B.shape)\n",
    "print(\"dimension of A : \", A.ndim, \"dimension of B : \", B.ndim)"
   ]
  },
  {
   "cell_type": "code",
   "execution_count": 5,
   "id": "33d5604c",
   "metadata": {},
   "outputs": [
    {
     "name": "stdout",
     "output_type": "stream",
     "text": [
      "[5 7 9]\n",
      "[-3 -3 -3]\n",
      "[ 4 10 18]\n",
      "[0.25 0.4  0.5 ]\n"
     ]
    }
   ],
   "source": [
    "print(A+B)\n",
    "print(A-B)\n",
    "print(A*B)\n",
    "print(A/B)"
   ]
  },
  {
   "cell_type": "code",
   "execution_count": 6,
   "id": "81194b37",
   "metadata": {},
   "outputs": [
    {
     "name": "stdout",
     "output_type": "stream",
     "text": [
      "A.shape: (2, 3) B.shape: (2, 3)\n",
      "dimension of A :  2 dimension of B :  2\n",
      "[[ 3  6  9]\n",
      " [12 15 18]]\n"
     ]
    }
   ],
   "source": [
    "A = np.array([[1,2,3], [4,5,6]]) #하나의 행을 하나의 대괄호로 표현함\n",
    "B = np.array([[3,3,3], [3,3,3]])\n",
    "\n",
    "print(\"A.shape:\", A.shape, \"B.shape:\", B.shape)\n",
    "print(\"dimension of A : \", A.ndim, \"dimension of B : \", B.ndim)\n",
    "print(A*B)"
   ]
  },
  {
   "cell_type": "markdown",
   "id": "7f5ff718",
   "metadata": {},
   "source": [
    "## 행, 열 변환"
   ]
  },
  {
   "cell_type": "code",
   "execution_count": 7,
   "id": "c58ef149",
   "metadata": {},
   "outputs": [
    {
     "name": "stdout",
     "output_type": "stream",
     "text": [
      "(3,)\n",
      "(1, 3)\n"
     ]
    }
   ],
   "source": [
    "C = np.array([1,2,3])\n",
    "print(C.shape)\n",
    "C = C.reshape(1,3)\n",
    "print(C.shape)"
   ]
  },
  {
   "cell_type": "code",
   "execution_count": 8,
   "id": "9985e201",
   "metadata": {},
   "outputs": [
    {
     "name": "stdout",
     "output_type": "stream",
     "text": [
      "[[1 2 3]\n",
      " [4 5 6]]\n",
      "행우선 변환 : \n",
      "[[1 2]\n",
      " [3 4]\n",
      " [5 6]]\n",
      "열우선 변환 : \n",
      "[[1 5]\n",
      " [4 3]\n",
      " [2 6]]\n"
     ]
    }
   ],
   "source": [
    "A = np.array([[1,2,3], [4,5,6]])\n",
    "print(A) #2행 3열 행렬\n",
    "print(\"행우선 변환 : \")\n",
    "print(np.reshape(A, (3, 2))) #행우선 변환\n",
    "print(\"열우선 변환 : \")\n",
    "print(np.reshape(A, (3, 2), order='F')) #열우선 저장"
   ]
  },
  {
   "cell_type": "markdown",
   "id": "1cc4a195",
   "metadata": {},
   "source": [
    "## 행렬 곱"
   ]
  },
  {
   "cell_type": "code",
   "execution_count": 9,
   "id": "d2f96e49",
   "metadata": {},
   "outputs": [
    {
     "name": "stdout",
     "output_type": "stream",
     "text": [
      "(2, 3) (3, 2)\n",
      "[[18 18]\n",
      " [45 45]]\n"
     ]
    }
   ],
   "source": [
    "A = np.array([[1,2,3],[4,5,6]])\n",
    "B = np.array([[3,3], [3,3], [3,3]])\n",
    "print(A.shape, B.shape)\n",
    "C = np.dot(A,B) #A행의 열과 B행의 행이 같아야 행렬곱이 가능하다. dot이 행렬곱임.\n",
    "#행렬곱의 결과는 A행의 행XB행의 열 이다.\n",
    "print(C)"
   ]
  },
  {
   "cell_type": "markdown",
   "id": "00c93cee",
   "metadata": {},
   "source": [
    "## Broadcast(사칙연산에만 적용)\n",
    "'사칙연산'에 대해서(not 행렬 곱) 두 개의 행렬 크기가 다르더라도, 사칙연산을 수행할 수 있게 해줌."
   ]
  },
  {
   "cell_type": "code",
   "execution_count": 10,
   "id": "fc4541d0",
   "metadata": {},
   "outputs": [
    {
     "name": "stdout",
     "output_type": "stream",
     "text": [
      "[[6 7]\n",
      " [8 9]]\n"
     ]
    }
   ],
   "source": [
    "A = np.array([[1,2],[3,4]])\n",
    "B = 5\n",
    "\n",
    "print(A+B)\n",
    "# [1 2] + 5 = [1, 2] + [5, 5]\n",
    "# [3 4]      [3, 4] + [5, 5]"
   ]
  },
  {
   "cell_type": "code",
   "execution_count": 11,
   "id": "0b3b643a",
   "metadata": {},
   "outputs": [
    {
     "name": "stdout",
     "output_type": "stream",
     "text": [
      "[[0 0]\n",
      " [2 2]]\n"
     ]
    }
   ],
   "source": [
    "A = np.array([[1,2],[3,4]])\n",
    "B = np.array([-1,-2])\n",
    "print(A+B)\n",
    "\n",
    "# [1 2] + [-1,-2] = [1, 2] + [-1, -2] = [0, 0]\n",
    "# [3 4]            [3, 4] + [-1, -2] = [2, 2]"
   ]
  },
  {
   "cell_type": "markdown",
   "id": "75c859b1",
   "metadata": {},
   "source": [
    "## 전치행렬\n",
    "행과 열을 바꿔줌\n",
    "A[i,j]를 A[j,i]로 바꿔줌"
   ]
  },
  {
   "cell_type": "code",
   "execution_count": 12,
   "id": "dc6120b4",
   "metadata": {},
   "outputs": [
    {
     "name": "stdout",
     "output_type": "stream",
     "text": [
      "[[1 2]\n",
      " [3 4]\n",
      " [5 6]]\n",
      "A shape :  (3, 2)\n",
      "\n",
      "[[1 3 5]\n",
      " [2 4 6]]\n",
      "B shape :  (2, 3)\n"
     ]
    }
   ],
   "source": [
    "A = np.array([[1,2], [3,4], [5,6]])\n",
    "B = A.T\n",
    "print(A)\n",
    "print(\"A shape : \",A.shape)\n",
    "print()\n",
    "print(B)\n",
    "print(\"B shape : \",B.shape)"
   ]
  },
  {
   "cell_type": "code",
   "execution_count": 13,
   "id": "87a34e22",
   "metadata": {},
   "outputs": [
    {
     "name": "stdout",
     "output_type": "stream",
     "text": [
      "[1 2 3 4 5]\n",
      "[1 2 3 4 5]\n"
     ]
    }
   ],
   "source": [
    "#vector에 Transpose를 하더라도 matrix로 변하지는 않는다.\n",
    "C = np.array([1,2,3,4,5])\n",
    "D = C.T\n",
    "print(C)\n",
    "print(D)"
   ]
  },
  {
   "cell_type": "code",
   "execution_count": 14,
   "id": "6d15462b",
   "metadata": {},
   "outputs": [
    {
     "name": "stdout",
     "output_type": "stream",
     "text": [
      "[[1 2 3 4 5]]\n",
      "[[1]\n",
      " [2]\n",
      " [3]\n",
      " [4]\n",
      " [5]]\n"
     ]
    }
   ],
   "source": [
    "E = np.array([[1,2,3,4,5]])\n",
    "F = E.T\n",
    "print(E)\n",
    "print(F)"
   ]
  },
  {
   "cell_type": "code",
   "execution_count": 15,
   "id": "572c0d19",
   "metadata": {},
   "outputs": [
    {
     "name": "stdout",
     "output_type": "stream",
     "text": [
      "[[1 2 3 4 5]]\n",
      "[[1]\n",
      " [2]\n",
      " [3]\n",
      " [4]\n",
      " [5]]\n"
     ]
    }
   ],
   "source": [
    "#reshape를 통해 matrix로 변환후 전치가 가능함\n",
    "G = np.array([1,2,3,4,5])\n",
    "G = G.reshape(1,5)\n",
    "print(G)\n",
    "H = G.T\n",
    "print(H)"
   ]
  },
  {
   "cell_type": "markdown",
   "id": "00b93d3a",
   "metadata": {},
   "source": [
    "## 행렬의 Indexing, slicing"
   ]
  },
  {
   "cell_type": "code",
   "execution_count": 16,
   "id": "a63d3def",
   "metadata": {},
   "outputs": [
    {
     "name": "stdout",
     "output_type": "stream",
     "text": [
      "[[10 20]\n",
      " [30 40]\n",
      " [50 60]]\n"
     ]
    }
   ],
   "source": [
    "A = np.array([10, 20, 30, 40, 50, 60]).reshape(3,2)\n",
    "print(A)"
   ]
  },
  {
   "cell_type": "code",
   "execution_count": 17,
   "id": "2bd6a886",
   "metadata": {},
   "outputs": [
    {
     "name": "stdout",
     "output_type": "stream",
     "text": [
      "10\n",
      "40\n",
      "50\n"
     ]
    }
   ],
   "source": [
    "print(A[0,0])\n",
    "print(A[1,1])\n",
    "print(A[2,0])"
   ]
  },
  {
   "cell_type": "code",
   "execution_count": 18,
   "id": "c7f32cfc",
   "metadata": {},
   "outputs": [
    {
     "name": "stdout",
     "output_type": "stream",
     "text": [
      "[[10 20]\n",
      " [30 40]\n",
      " [50 60]]\n"
     ]
    }
   ],
   "source": [
    "print(A[0:, -2:])"
   ]
  },
  {
   "cell_type": "code",
   "execution_count": 19,
   "id": "b86b7289",
   "metadata": {},
   "outputs": [
    {
     "name": "stdout",
     "output_type": "stream",
     "text": [
      "[[50 60]]\n"
     ]
    }
   ],
   "source": [
    "print(A[-1:, 0:])"
   ]
  },
  {
   "cell_type": "code",
   "execution_count": 20,
   "id": "638e408b",
   "metadata": {},
   "outputs": [
    {
     "name": "stdout",
     "output_type": "stream",
     "text": [
      "[[10 20]\n",
      " [30 40]\n",
      " [50 60]]\n"
     ]
    }
   ],
   "source": [
    "print(A[:,:])"
   ]
  },
  {
   "cell_type": "markdown",
   "id": "5ebac49d",
   "metadata": {},
   "source": [
    "## numpy - iterator\n",
    "행렬의 모든 원소에 access하는 경우"
   ]
  },
  {
   "cell_type": "code",
   "execution_count": 21,
   "id": "d15624c5",
   "metadata": {},
   "outputs": [
    {
     "name": "stdout",
     "output_type": "stream",
     "text": [
      "[[10 20 30 40]\n",
      " [50 60 70 80]]\n",
      "(2, 4)\n"
     ]
    }
   ],
   "source": [
    "A = np.array([[10, 20, 30, 40], [50, 60, 70, 80]])\n",
    "print(A)\n",
    "print(A.shape)"
   ]
  },
  {
   "cell_type": "code",
   "execution_count": 22,
   "id": "42abe234",
   "metadata": {},
   "outputs": [
    {
     "name": "stdout",
     "output_type": "stream",
     "text": [
      "10\n",
      "20\n",
      "30\n",
      "40\n",
      "50\n",
      "60\n",
      "70\n",
      "80\n"
     ]
    }
   ],
   "source": [
    "it = np.nditer(A, flags=['multi_index'], op_flags=['readwrite'])\n",
    "#행우선 접근\n",
    "while not it.finished:\n",
    "    idx = it.multi_index\n",
    "    print(A[idx])\n",
    "    it.iternext()"
   ]
  },
  {
   "cell_type": "code",
   "execution_count": 23,
   "id": "017dc8ba",
   "metadata": {},
   "outputs": [
    {
     "name": "stdout",
     "output_type": "stream",
     "text": [
      "False\n"
     ]
    }
   ],
   "source": [
    "it.reset()\n",
    "print(it.finished)"
   ]
  },
  {
   "cell_type": "markdown",
   "id": "c71e5a33",
   "metadata": {},
   "source": [
    "## concatenate\n",
    "행렬에 행과 열을 추가함"
   ]
  },
  {
   "cell_type": "code",
   "execution_count": 26,
   "id": "0f126b00",
   "metadata": {},
   "outputs": [
    {
     "name": "stdout",
     "output_type": "stream",
     "text": [
      "(2, 3)\n",
      "[[10 20 30]\n",
      " [40 50 60]]\n"
     ]
    }
   ],
   "source": [
    "A = np.array([[10, 20, 30], [40, 50, 60]])\n",
    "print(A.shape)\n",
    "print(A)"
   ]
  },
  {
   "cell_type": "code",
   "execution_count": 32,
   "id": "9b351b07",
   "metadata": {},
   "outputs": [],
   "source": [
    "#vector는 행과 열을 구분하지 않기 때문에, reshape해줘야 기존의 행렬에 하나의 행을 추가할 수 있게 된다.\n",
    "row_add = np.array([70, 80, 90]).reshape(1,3)\n",
    "column_add = np.array([100, 200, 300]).reshape(3,1)"
   ]
  },
  {
   "cell_type": "code",
   "execution_count": 33,
   "id": "366631e1",
   "metadata": {},
   "outputs": [
    {
     "name": "stdout",
     "output_type": "stream",
     "text": [
      "[[10 20 30]\n",
      " [40 50 60]\n",
      " [70 80 90]]\n",
      "[[ 10  20  30 100]\n",
      " [ 40  50  60 200]\n",
      " [ 70  80  90 300]]\n"
     ]
    }
   ],
   "source": [
    "#axis : {0 : row, 1:column}\n",
    "B = np.concatenate((A, row_add), axis=0)\n",
    "print(B)\n",
    "C = np.concatenate((B, column_add), axis=1)\n",
    "print(C)"
   ]
  },
  {
   "cell_type": "markdown",
   "id": "a56e56ed",
   "metadata": {},
   "source": [
    "## loadtxt\n",
    "seperator로 구분된 파일에서 데이터를 읽기 위한 함수"
   ]
  },
  {
   "cell_type": "code",
   "execution_count": 41,
   "id": "821ba103",
   "metadata": {},
   "outputs": [],
   "source": [
    "import csv\n",
    "import random\n",
    "with open('test.csv', 'w', encoding='utf-8') as f:\n",
    "    wr = csv.writer(f)\n",
    "    for i in range(10):\n",
    "        wr.writerow([random.randint(-100, 100), random.randint(-100, 100), random.randint(-100, 100), random.randint(-100, 100)])\n",
    "        "
   ]
  },
  {
   "cell_type": "code",
   "execution_count": 43,
   "id": "c7fabf78",
   "metadata": {},
   "outputs": [
    {
     "name": "stdout",
     "output_type": "stream",
     "text": [
      "[[ 81.  29.  38.  25.]\n",
      " [-88.  66.   6.  61.]\n",
      " [-91. -17.  12. -27.]\n",
      " [  9.  -7. -36. -80.]\n",
      " [-81.  59. -99.  -4.]\n",
      " [-40.  94. -43.  64.]\n",
      " [-41. -76.  53.  66.]\n",
      " [ 29.  32.  -3.  89.]\n",
      " [ 72. -59. -37. -42.]\n",
      " [ 21.  63.   3. -61.]]\n",
      "[[ 81.  29.  38.]\n",
      " [-88.  66.   6.]\n",
      " [-91. -17.  12.]\n",
      " [  9.  -7. -36.]\n",
      " [-81.  59. -99.]\n",
      " [-40.  94. -43.]\n",
      " [-41. -76.  53.]\n",
      " [ 29.  32.  -3.]\n",
      " [ 72. -59. -37.]\n",
      " [ 21.  63.   3.]]\n"
     ]
    }
   ],
   "source": [
    "loaded_data=np.loadtxt('test.csv', delimiter=',', dtype=np.float32)\n",
    "print(loaded_data)"
   ]
  },
  {
   "cell_type": "code",
   "execution_count": 45,
   "id": "70381304",
   "metadata": {},
   "outputs": [
    {
     "name": "stdout",
     "output_type": "stream",
     "text": [
      "[[ 81.  29.  38.]\n",
      " [-88.  66.   6.]\n",
      " [-91. -17.  12.]\n",
      " [  9.  -7. -36.]\n",
      " [-81.  59. -99.]\n",
      " [-40.  94. -43.]\n",
      " [-41. -76.  53.]\n",
      " [ 29.  32.  -3.]\n",
      " [ 72. -59. -37.]\n",
      " [ 21.  63.   3.]]\n"
     ]
    }
   ],
   "source": [
    "x_data = loaded_data[:, 0:-1]\n",
    "print(x_data)"
   ]
  },
  {
   "cell_type": "code",
   "execution_count": 47,
   "id": "2a73d382",
   "metadata": {},
   "outputs": [
    {
     "name": "stdout",
     "output_type": "stream",
     "text": [
      "[[ 25.  61. -27. -80.  -4.  64.  66.  89. -42. -61.]]\n"
     ]
    }
   ],
   "source": [
    "t_data = loaded_data[:, [-1]]\n",
    "print(t_data.reshape(1, 10))"
   ]
  },
  {
   "cell_type": "markdown",
   "id": "6887cd59",
   "metadata": {},
   "source": [
    "## random\n",
    "rand() : 0~1사이의 임의값"
   ]
  },
  {
   "cell_type": "code",
   "execution_count": 49,
   "id": "0ff9f342",
   "metadata": {},
   "outputs": [
    {
     "name": "stdout",
     "output_type": "stream",
     "text": [
      "0.7935908975164804\n",
      "0.49499262900101637\n",
      "0.056229315015427495\n"
     ]
    }
   ],
   "source": [
    "rand1 = np.random.rand()\n",
    "rand2 = np.random.rand()\n",
    "rand3 = np.random.rand()\n",
    "\n",
    "print(rand1)\n",
    "print(rand2)\n",
    "print(rand3)"
   ]
  },
  {
   "cell_type": "markdown",
   "id": "e0c77e3a",
   "metadata": {},
   "source": [
    "## 다양한 수학함수"
   ]
  },
  {
   "cell_type": "code",
   "execution_count": 51,
   "id": "f47b76f0",
   "metadata": {},
   "outputs": [
    {
     "name": "stdout",
     "output_type": "stream",
     "text": [
      "[7.38905610e+00 5.45981500e+01 2.98095799e+03 8.88611052e+06]\n",
      "[4.0000e+00 1.6000e+01 2.5600e+02 6.5536e+04]\n",
      "30\n",
      "7.5\n",
      "[0.69314718 1.38629436 2.07944154 2.77258872]\n"
     ]
    }
   ],
   "source": [
    "A = np.array([2, 4, 8, 16])\n",
    "print(np.exp(A))\n",
    "print(np.exp2(A))\n",
    "print(np.sum(A))\n",
    "print(np.average(A))\n",
    "print(np.log(A))"
   ]
  },
  {
   "cell_type": "markdown",
   "id": "860c538d",
   "metadata": {},
   "source": [
    "## min, max, argmin, argmax"
   ]
  },
  {
   "cell_type": "code",
   "execution_count": 57,
   "id": "6614e607",
   "metadata": {},
   "outputs": [
    {
     "name": "stdout",
     "output_type": "stream",
     "text": [
      "max : 16\n",
      "min : 2\n",
      "argmax : 3\n",
      "argmin : 0\n"
     ]
    }
   ],
   "source": [
    "print(\"max :\",np.max(A))\n",
    "print(\"min :\",np.min(A))\n",
    "print(\"argmax :\",np.argmax(A)) #index를 리턴해준다.\n",
    "print(\"argmin :\",np.argmin(A)) #"
   ]
  },
  {
   "cell_type": "code",
   "execution_count": 67,
   "id": "65c38baa",
   "metadata": {},
   "outputs": [
    {
     "name": "stdout",
     "output_type": "stream",
     "text": [
      "[1 2 6]\n",
      "[2 1]\n",
      "[4 6 9]\n",
      "[6 9]\n"
     ]
    }
   ],
   "source": [
    "B = np.array([[4,2,6], [1,6,9]])\n",
    "print(np.min(B, axis=0)) #각 열에서 최소값만 찾아서 벡터를 만들어줌\n",
    "print(np.min(B, axis=1)) #각 행에서 최소값만 찾아서 벡터를 만들어줌 \n",
    "print(np.max(B, axis=0)) #각 열에서 최대값만 찾아서 벡터를 만들어줌\n",
    "print(np.max(B, axis=1)) #각 행에서 최대값만 찾아서 벡터를 만들어줌"
   ]
  },
  {
   "cell_type": "code",
   "execution_count": 68,
   "id": "30f978d7",
   "metadata": {},
   "outputs": [
    {
     "name": "stdout",
     "output_type": "stream",
     "text": [
      "[1 0 0]\n",
      "[1 0]\n",
      "[0 1 1]\n",
      "[2 2]\n"
     ]
    }
   ],
   "source": [
    "print(np.argmin(B, axis=0)) #각 열에서 최소값만 찾아서 인덱스를 반환 (1행, 2행, 2행)에 max값이 존재함.\n",
    "print(np.argmin(B, axis=1)) #각 행에서 최소값만 찾아서 인덱스를 반환\n",
    "print(np.argmax(B, axis=0)) #각 열에서 최대값만 찾아서 인덱스를 반환\n",
    "print(np.argmax(B, axis=1)) #각 행에서 최대값만 찾아서 인덱스를 반환"
   ]
  },
  {
   "cell_type": "markdown",
   "id": "97176f68",
   "metadata": {},
   "source": [
    "## ones, zeros"
   ]
  },
  {
   "cell_type": "code",
   "execution_count": 69,
   "id": "763c62d0",
   "metadata": {},
   "outputs": [
    {
     "name": "stdout",
     "output_type": "stream",
     "text": [
      "[[1. 1. 1.]\n",
      " [1. 1. 1.]\n",
      " [1. 1. 1.]]\n",
      "[[0. 0. 0.]\n",
      " [0. 0. 0.]\n",
      " [0. 0. 0.]]\n"
     ]
    }
   ],
   "source": [
    "A_ones = np.ones([3,3])\n",
    "A_zeros = np.zeros([3,3])\n",
    "print(A_ones)\n",
    "print(A_zeros)"
   ]
  },
  {
   "cell_type": "code",
   "execution_count": null,
   "id": "e20e118e",
   "metadata": {},
   "outputs": [],
   "source": []
  },
  {
   "cell_type": "code",
   "execution_count": null,
   "id": "1d53f836",
   "metadata": {},
   "outputs": [],
   "source": []
  },
  {
   "cell_type": "code",
   "execution_count": null,
   "id": "4daab96f",
   "metadata": {},
   "outputs": [],
   "source": []
  }
 ],
 "metadata": {
  "kernelspec": {
   "display_name": "Python 3 (ipykernel)",
   "language": "python",
   "name": "python3"
  },
  "language_info": {
   "codemirror_mode": {
    "name": "ipython",
    "version": 3
   },
   "file_extension": ".py",
   "mimetype": "text/x-python",
   "name": "python",
   "nbconvert_exporter": "python",
   "pygments_lexer": "ipython3",
   "version": "3.9.7"
  }
 },
 "nbformat": 4,
 "nbformat_minor": 5
}
