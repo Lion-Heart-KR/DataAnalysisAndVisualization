{
 "cells": [
  {
   "cell_type": "markdown",
   "id": "5f866861",
   "metadata": {},
   "source": [
    "# 05.Numpy"
   ]
  },
  {
   "cell_type": "code",
   "execution_count": 13,
   "id": "9e61820c",
   "metadata": {},
   "outputs": [],
   "source": [
    "import numpy as np"
   ]
  },
  {
   "cell_type": "markdown",
   "id": "c92d8988",
   "metadata": {},
   "source": [
    "## 행렬 연산(np.array)"
   ]
  },
  {
   "cell_type": "code",
   "execution_count": 29,
   "id": "6e8949c2",
   "metadata": {},
   "outputs": [
    {
     "name": "stdout",
     "output_type": "stream",
     "text": [
      "[[2 1]\n",
      " [1 1]]\n"
     ]
    },
    {
     "data": {
      "text/plain": [
       "array([[1, 1],\n",
       "       [1, 0]])"
      ]
     },
     "execution_count": 29,
     "metadata": {},
     "output_type": "execute_result"
    }
   ],
   "source": [
    "#행렬으로 표현해준다.\n",
    "A = np.array([ [1,0], [0,1] ])\n",
    "B = np.array([ [1,1], [1,0] ])\n",
    "\n",
    "print(A+B)"
   ]
  },
  {
   "cell_type": "code",
   "execution_count": 21,
   "id": "8894e56b",
   "metadata": {},
   "outputs": [
    {
     "data": {
      "text/plain": [
       "[[1, 0], [0, 1], [1, 1], [1, 0]]"
      ]
     },
     "execution_count": 21,
     "metadata": {},
     "output_type": "execute_result"
    }
   ],
   "source": [
    "# 일반 list의 경우 단순히 이어붙이기만 한다.\n",
    "A_list = [[1,0], [0,1]]\n",
    "B_list = [[1,1], [1,0]]\n",
    "A_list+B_list"
   ]
  },
  {
   "cell_type": "code",
   "execution_count": 30,
   "id": "c52d26df",
   "metadata": {},
   "outputs": [
    {
     "name": "stdout",
     "output_type": "stream",
     "text": [
      "A ==  [1 2 3] B ==  [4 5 6]\n",
      "A.shape ==  (3,) B.shape ==  (3,)\n",
      "dimension of A :  1 dimension of B :  1\n"
     ]
    }
   ],
   "source": [
    "A = np.array([1,2,3])\n",
    "B = np.array([4,5,6])\n",
    "\n",
    "print(\"A == \", A, \"B == \", B)\n",
    "print(\"A.shape == \", A.shape, \"B.shape == \", B.shape)\n",
    "print(\"dimension of A : \", A.ndim, \"dimension of B : \", B.ndim)"
   ]
  },
  {
   "cell_type": "code",
   "execution_count": 34,
   "id": "ec56c48d",
   "metadata": {},
   "outputs": [
    {
     "name": "stdout",
     "output_type": "stream",
     "text": [
      "[5 7 9]\n",
      "[-3 -3 -3]\n",
      "[ 4 10 18]\n",
      "[0.25 0.4  0.5 ]\n"
     ]
    }
   ],
   "source": [
    "print(A+B)\n",
    "print(A-B)\n",
    "print(A*B)\n",
    "print(A/B)"
   ]
  },
  {
   "cell_type": "code",
   "execution_count": 37,
   "id": "52b99f9b",
   "metadata": {},
   "outputs": [
    {
     "name": "stdout",
     "output_type": "stream",
     "text": [
      "A.shape: (2, 3) B.shape: (2, 3)\n",
      "dimension of A :  2 dimension of B :  2\n",
      "[[ 3  6  9]\n",
      " [12 15 18]]\n"
     ]
    }
   ],
   "source": [
    "A = np.array([[1,2,3], [4,5,6]]) #하나의 행을 하나의 대괄호로 표현함\n",
    "B = np.array([[3,3,3], [3,3,3]])\n",
    "\n",
    "print(\"A.shape:\", A.shape, \"B.shape:\", B.shape)\n",
    "print(\"dimension of A : \", A.ndim, \"dimension of B : \", B.ndim)\n",
    "print(A*B)"
   ]
  },
  {
   "cell_type": "markdown",
   "id": "91256728",
   "metadata": {},
   "source": [
    "## 행, 열 변환"
   ]
  },
  {
   "cell_type": "code",
   "execution_count": 40,
   "id": "acccf0b1",
   "metadata": {},
   "outputs": [
    {
     "name": "stdout",
     "output_type": "stream",
     "text": [
      "(3,)\n",
      "(1, 3)\n"
     ]
    }
   ],
   "source": [
    "C = np.array([1,2,3])\n",
    "print(C.shape)\n",
    "C = C.reshape(1,3)\n",
    "print(C.shape)"
   ]
  },
  {
   "cell_type": "code",
   "execution_count": 70,
   "id": "fa8cca68",
   "metadata": {},
   "outputs": [
    {
     "name": "stdout",
     "output_type": "stream",
     "text": [
      "[[1 2 3]\n",
      " [4 5 6]]\n",
      "행우선 변환 : \n",
      "[[1 2]\n",
      " [3 4]\n",
      " [5 6]]\n",
      "[[1 2 3]\n",
      " [4 5 6]]\n",
      "열우선 변환 : \n",
      "[[1 5]\n",
      " [4 3]\n",
      " [2 6]]\n"
     ]
    }
   ],
   "source": [
    "A = np.array([[1,2,3], [4,5,6]])\n",
    "print(A) #2행 3열 행렬\n",
    "print(\"행우선 변환 : \")\n",
    "print(np.reshape(A, (3, 2))) #행우선 변환\n",
    "print(\"열우선 변환 : \")\n",
    "print(np.reshape(A, (3, 2), order='F')) #열우선 저장"
   ]
  },
  {
   "cell_type": "code",
   "execution_count": null,
   "id": "33213a4d",
   "metadata": {},
   "outputs": [],
   "source": []
  },
  {
   "cell_type": "code",
   "execution_count": null,
   "id": "bb8aa1e5",
   "metadata": {},
   "outputs": [],
   "source": []
  }
 ],
 "metadata": {
  "kernelspec": {
   "display_name": "Python 3 (ipykernel)",
   "language": "python",
   "name": "python3"
  },
  "language_info": {
   "codemirror_mode": {
    "name": "ipython",
    "version": 3
   },
   "file_extension": ".py",
   "mimetype": "text/x-python",
   "name": "python",
   "nbconvert_exporter": "python",
   "pygments_lexer": "ipython3",
   "version": "3.9.7"
  }
 },
 "nbformat": 4,
 "nbformat_minor": 5
}
