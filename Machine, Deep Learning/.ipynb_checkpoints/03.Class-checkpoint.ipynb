{
 "cells": [
  {
   "cell_type": "markdown",
   "id": "5c1824c4",
   "metadata": {},
   "source": [
    "# 03.Class"
   ]
  },
  {
   "cell_type": "markdown",
   "id": "f294fb37",
   "metadata": {},
   "source": [
    "## Class 선언 및 메소드"
   ]
  },
  {
   "cell_type": "code",
   "execution_count": 4,
   "id": "ce0062eb",
   "metadata": {},
   "outputs": [
    {
     "name": "stdout",
     "output_type": "stream",
     "text": [
      "Lion is initialized\n",
      "Lion is working in samsung\n",
      "Lion\n"
     ]
    }
   ],
   "source": [
    "class Person:\n",
    "    def __init__(self, name):\n",
    "        self.name = name\n",
    "        print(self.name + \" is initialized\")\n",
    "        \n",
    "    def work(self, company):\n",
    "        print(self.name + \" is working in \" + company)\n",
    "        \n",
    "obj = Person('Lion')\n",
    "obj.work('samsung')\n",
    "print(obj.name)"
   ]
  },
  {
   "cell_type": "markdown",
   "id": "6f97d6f2",
   "metadata": {},
   "source": [
    "## class variable, class method"
   ]
  },
  {
   "cell_type": "code",
   "execution_count": 35,
   "id": "7de5c33a",
   "metadata": {
    "scrolled": true
   },
   "outputs": [
    {
     "name": "stdout",
     "output_type": "stream",
     "text": [
      "Lion is initialized\n",
      "Choon-sick is initialized\n",
      "La Choon is initialized\n",
      "3\n",
      "3\n",
      "['Lion', 'Choon-sick', 'La Choon']\n",
      "3\n",
      "3\n",
      "3\n"
     ]
    }
   ],
   "source": [
    "class Person:\n",
    "#   class변수는 해당 클래스로부터 생성된 모든 인스턴스가 공유한다.\n",
    "    count = 0\n",
    "    ary=[]\n",
    "    \n",
    "    def __init__(self, name):\n",
    "        self.name = name\n",
    "        Person.count += 1\n",
    "        Person.ary.append(self.name)\n",
    "#         Person.ary += [self.name]\n",
    "        print(self.name + \" is initialized\")\n",
    "        \n",
    "    def work(self, company):\n",
    "        print(self.name + \" is working in \" + company)\n",
    "        \n",
    "    def sleep(self):\n",
    "        print(self.name, \"is sleeping\")\n",
    "        \n",
    "    @classmethod\n",
    "    def getCount(cls):\n",
    "        return cls.count\n",
    "        \n",
    "obj1 = Person('Lion')\n",
    "obj2 = Person('Choon-sick')\n",
    "obj3 = Person('La Choon')\n",
    "\n",
    "print(Person.count)\n",
    "print(Person.getCount())\n",
    "print(Person.ary)\n",
    "print(obj1.count)\n",
    "print(obj2.count)\n",
    "print(obj3.count)\n"
   ]
  },
  {
   "cell_type": "markdown",
   "id": "32e8b2f4",
   "metadata": {},
   "source": [
    "## private\n",
    "2개의 under bar를 변수 앞에 붙여주면, 그 변수는 클래스 내부에서만 사용가능한 private 변수이다."
   ]
  },
  {
   "cell_type": "code",
   "execution_count": 46,
   "id": "69764b7d",
   "metadata": {},
   "outputs": [
    {
     "name": "stdout",
     "output_type": "stream",
     "text": [
      "춘시기public\n",
      "춘시기private\n"
     ]
    },
    {
     "ename": "AttributeError",
     "evalue": "'privateClass' object has no attribute '__name2'",
     "output_type": "error",
     "traceback": [
      "\u001b[1;31m---------------------------------------------------------------------------\u001b[0m",
      "\u001b[1;31mAttributeError\u001b[0m                            Traceback (most recent call last)",
      "\u001b[1;32m~\\AppData\\Local\\Temp/ipykernel_8976/1420817290.py\u001b[0m in \u001b[0;36m<module>\u001b[1;34m\u001b[0m\n\u001b[0;32m     14\u001b[0m \u001b[0ma\u001b[0m\u001b[1;33m.\u001b[0m\u001b[0mprintPrivateName\u001b[0m\u001b[1;33m(\u001b[0m\u001b[1;33m)\u001b[0m\u001b[1;33m\u001b[0m\u001b[1;33m\u001b[0m\u001b[0m\n\u001b[0;32m     15\u001b[0m \u001b[0ma\u001b[0m\u001b[1;33m.\u001b[0m\u001b[0mname1\u001b[0m\u001b[1;33m\u001b[0m\u001b[1;33m\u001b[0m\u001b[0m\n\u001b[1;32m---> 16\u001b[1;33m \u001b[0ma\u001b[0m\u001b[1;33m.\u001b[0m\u001b[0m__name2\u001b[0m\u001b[1;33m\u001b[0m\u001b[1;33m\u001b[0m\u001b[0m\n\u001b[0m",
      "\u001b[1;31mAttributeError\u001b[0m: 'privateClass' object has no attribute '__name2'"
     ]
    }
   ],
   "source": [
    "class privateClass:\n",
    "    def __init__(self, name):\n",
    "        self.name1 = name+\"public\"\n",
    "        self.__name2 = name+\"private\"\n",
    "    \n",
    "    def printPublicName(self):\n",
    "        print(self.name1)\n",
    "    \n",
    "    def printPrivateName(self):\n",
    "        print(self.__name2)\n",
    "        \n",
    "a = privateClass('춘시기')\n",
    "a.printPublicName()\n",
    "a.printPrivateName()\n",
    "a.name1\n",
    "# a.__name2 Error 발생함"
   ]
  },
  {
   "cell_type": "markdown",
   "id": "656e80c3",
   "metadata": {},
   "source": [
    "## 이름이 같은 메서드"
   ]
  },
  {
   "cell_type": "code",
   "execution_count": 54,
   "id": "b93f7ac7",
   "metadata": {},
   "outputs": [
    {
     "name": "stdout",
     "output_type": "stream",
     "text": [
      "[def] 춘식이\n",
      "[class] 춘식이\n",
      "[def] 춘식이\n",
      "[class] 춘식이\n"
     ]
    }
   ],
   "source": [
    "# def printName(name):\n",
    "#     print(\"[def]\",name)\n",
    "\n",
    "class testSameMethod:\n",
    "    def __init__(self, name):\n",
    "        self.name = name\n",
    "        \n",
    "    def printName(self, name):\n",
    "        print(\"[class]\",name)\n",
    "    \n",
    "    def callSameMethod(self):\n",
    "        printName(self.name)\n",
    "        self.printName(self.name)\n",
    "\n",
    "cat = testSameMethod('춘식이')\n",
    "printName('춘식이')\n",
    "cat.printName('춘식이')\n",
    "cat.callSameMethod()"
   ]
  },
  {
   "cell_type": "code",
   "execution_count": null,
   "id": "843fc0bd",
   "metadata": {},
   "outputs": [],
   "source": []
  },
  {
   "cell_type": "code",
   "execution_count": null,
   "id": "b0c3ffb1",
   "metadata": {},
   "outputs": [],
   "source": []
  },
  {
   "cell_type": "code",
   "execution_count": null,
   "id": "5669c3c2",
   "metadata": {},
   "outputs": [],
   "source": []
  }
 ],
 "metadata": {
  "kernelspec": {
   "display_name": "Python 3 (ipykernel)",
   "language": "python",
   "name": "python3"
  },
  "language_info": {
   "codemirror_mode": {
    "name": "ipython",
    "version": 3
   },
   "file_extension": ".py",
   "mimetype": "text/x-python",
   "name": "python",
   "nbconvert_exporter": "python",
   "pygments_lexer": "ipython3",
   "version": "3.9.7"
  }
 },
 "nbformat": 4,
 "nbformat_minor": 5
}
