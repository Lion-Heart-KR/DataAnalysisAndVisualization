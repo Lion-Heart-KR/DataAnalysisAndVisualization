{
 "cells": [
  {
   "cell_type": "markdown",
   "id": "7ae2f459",
   "metadata": {},
   "source": [
    "# 4.with"
   ]
  },
  {
   "cell_type": "code",
   "execution_count": 10,
   "id": "9fbb4a1e",
   "metadata": {},
   "outputs": [],
   "source": [
    "matrix_quotes = [\"The Matrix is the world that has been pulled over your eyes to blind you from the truth.\\n\", \n",
    "                 \"You have to let it all go, Neo. Fear, doubt, and disblief. Free your mind.\\n\", \n",
    "                 \"There is a difference between knowing the path and walking the path.\\n\", \n",
    "                 \"Welcom to the desert of the real!\\n\"]\n",
    "\n",
    "\n",
    "with open('test.txt', 'w') as f:\n",
    "    f.write(matrix_quotes[0])"
   ]
  },
  {
   "cell_type": "code",
   "execution_count": 11,
   "id": "d9d25413",
   "metadata": {},
   "outputs": [],
   "source": [
    "matrix_quotes = [\"The Matrix is the world that has been pulled over your eyes to blind you from the truth.\\n\", \n",
    "                 \"You have to let it all go, Neo. Fear, doubt, and disblief. Free your mind.\\n\", \n",
    "                 \"There is a difference between knowing the path and walking the path.\\n\", \n",
    "                 \"Welcom to the desert of the real!\\n\"]\n",
    "\n",
    "\n",
    "with open('test.txt', 'w') as f:\n",
    "    f.writelines(matrix_quotes)"
   ]
  }
 ],
 "metadata": {
  "kernelspec": {
   "display_name": "Python 3 (ipykernel)",
   "language": "python",
   "name": "python3"
  },
  "language_info": {
   "codemirror_mode": {
    "name": "ipython",
    "version": 3
   },
   "file_extension": ".py",
   "mimetype": "text/x-python",
   "name": "python",
   "nbconvert_exporter": "python",
   "pygments_lexer": "ipython3",
   "version": "3.9.7"
  }
 },
 "nbformat": 4,
 "nbformat_minor": 5
}
