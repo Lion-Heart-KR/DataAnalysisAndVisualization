{
 "cells": [
  {
   "cell_type": "markdown",
   "id": "30ae8b8f",
   "metadata": {},
   "source": [
    "# 수치미분의 3단계\n",
    "\n",
    "1. 미분하려는 함수 정의\n",
    "2. 델타 x는 작은 값으로 설정\n",
    "3. 분자와 분모 구현"
   ]
  },
  {
   "cell_type": "markdown",
   "id": "64f0ef22",
   "metadata": {},
   "source": [
    "## 입력변수가 하나"
   ]
  },
  {
   "cell_type": "code",
   "execution_count": 1,
   "id": "8b45a0aa",
   "metadata": {},
   "outputs": [],
   "source": [
    "def numerical_derivative(f, x):\n",
    "    #매우 작은 값\n",
    "    delta_x = 1e-6\n",
    "    \n",
    "    \n",
    "    return (f(x+delta_x)-f(x-delta_x))/(2*delta_x)"
   ]
  },
  {
   "cell_type": "markdown",
   "id": "913a4e71",
   "metadata": {},
   "source": [
    "## 예제 : f(x) = x^2"
   ]
  },
  {
   "cell_type": "code",
   "execution_count": 2,
   "id": "9d92b120",
   "metadata": {},
   "outputs": [],
   "source": [
    "def my_func1(x):\n",
    "    return x**2;"
   ]
  },
  {
   "cell_type": "code",
   "execution_count": 3,
   "id": "3c19459f",
   "metadata": {},
   "outputs": [
    {
     "data": {
      "text/plain": [
       "17.999999990081506"
      ]
     },
     "execution_count": 3,
     "metadata": {},
     "output_type": "execute_result"
    }
   ],
   "source": [
    "#x^2함수를 미분한 것임.\n",
    "result = numerical_derivative(my_func1, 9)\n",
    "result"
   ]
  },
  {
   "cell_type": "markdown",
   "id": "a789fba5",
   "metadata": {},
   "source": [
    "## 예제 : f(x) = 3xe^x"
   ]
  },
  {
   "cell_type": "code",
   "execution_count": 4,
   "id": "e1a2a747",
   "metadata": {},
   "outputs": [],
   "source": [
    "import numpy as np\n",
    "def my_func2(x):\n",
    "    return 3*x*(np.exp(x))"
   ]
  },
  {
   "cell_type": "code",
   "execution_count": 5,
   "id": "293f01ca",
   "metadata": {},
   "outputs": [
    {
     "data": {
      "text/plain": [
       "66.5"
      ]
     },
     "execution_count": 5,
     "metadata": {},
     "output_type": "execute_result"
    }
   ],
   "source": [
    "result = numerical_derivative(my_func2, 2)\n",
    "round(result, 2)"
   ]
  },
  {
   "cell_type": "markdown",
   "id": "708025b6",
   "metadata": {},
   "source": [
    "## 다변수 함수"
   ]
  },
  {
   "cell_type": "code",
   "execution_count": 14,
   "id": "5bdc65f0",
   "metadata": {},
   "outputs": [],
   "source": [
    "#여기서 x는 하나 이상의 변수를 갖는 배열이나 행렬. 다변수함수의 파라미터의 개수와 같아야 한다.\n",
    "def numerical_derivative(f, x):\n",
    "    delta_x = 1e-6\n",
    "    \n",
    "    #0으로 초기화함.\n",
    "    grad = np.zeros_like(x)\n",
    "    \n",
    "    print(\"debug 1. initial input variables=\", x)\n",
    "    print(\"debug 2. initial grad =\", grad)\n",
    "    print(\"=====================================\")\n",
    "    \n",
    "    #iterator\n",
    "    it = np.nditer(x, flags=['multi_index'], op_flags=['readwrite'])\n",
    "    \n",
    "    while not it.finished:\n",
    "        idx = it.multi_index\n",
    "        \n",
    "        print(\"debug 3. idx =\", idx, \", x[idx] = \", x[idx])\n",
    "        \n",
    "        tmp_val = x[idx]\n",
    "        x[idx] = float(tmp_val) + delta_x\n",
    "        fx1 = f(x)\n",
    "        \n",
    "        x[idx] = float(tmp_val) - delta_x\n",
    "        fx2 = f(x)\n",
    "        grad[idx] = (fx1 - fx2)/(2*delta_x)\n",
    "        \n",
    "        print(\"debug 4. grad[idx] = \",grad[idx])\n",
    "        print(\"debug 5. grad=\",grad)\n",
    "        \n",
    "        x[idx] = tmp_val\n",
    "        it.iternext()\n",
    "    \n",
    "    return grad"
   ]
  },
  {
   "cell_type": "code",
   "execution_count": 12,
   "id": "3b35d6bf",
   "metadata": {},
   "outputs": [],
   "source": [
    "def func1(input_obj):\n",
    "    x=input_obj[0]\n",
    "    return x**2"
   ]
  },
  {
   "cell_type": "code",
   "execution_count": 15,
   "id": "db8de181",
   "metadata": {},
   "outputs": [
    {
     "name": "stdout",
     "output_type": "stream",
     "text": [
      "debug 1. initial input variables= [3.]\n",
      "debug 2. initial grad = [0.]\n",
      "=====================================\n",
      "debug 3. idx = (0,) , x[idx] =  3.0\n",
      "debug 4. grad[idx] =  6.000000000838668\n",
      "debug 5. grad= [6.]\n"
     ]
    },
    {
     "data": {
      "text/plain": [
       "array([6.])"
      ]
     },
     "execution_count": 15,
     "metadata": {},
     "output_type": "execute_result"
    }
   ],
   "source": [
    "numerical_derivative(func1, np.array([3.0]))"
   ]
  },
  {
   "cell_type": "code",
   "execution_count": 21,
   "id": "0b0e9ac4",
   "metadata": {},
   "outputs": [],
   "source": [
    "def func2(input_obj):\n",
    "    a = input_obj[0]\n",
    "    b = input_obj[1]\n",
    "    return 2*a + 3*a*b + b**3"
   ]
  },
  {
   "cell_type": "code",
   "execution_count": 25,
   "id": "7f920809",
   "metadata": {},
   "outputs": [
    {
     "name": "stdout",
     "output_type": "stream",
     "text": [
      "debug 1. initial input variables= [1. 2.]\n",
      "debug 2. initial grad = [0. 0.]\n",
      "=====================================\n",
      "debug 3. idx = (0,) , x[idx] =  1.0\n",
      "debug 4. grad[idx] =  8.000000001118224\n",
      "debug 5. grad= [8. 0.]\n",
      "debug 3. idx = (1,) , x[idx] =  2.0\n",
      "debug 4. grad[idx] =  15.000000000320313\n",
      "debug 5. grad= [ 8. 15.]\n"
     ]
    },
    {
     "data": {
      "text/plain": [
       "array([ 8., 15.])"
      ]
     },
     "execution_count": 25,
     "metadata": {},
     "output_type": "execute_result"
    }
   ],
   "source": [
    "numerical_derivative(func2, np.array([1.0,2.0]))"
   ]
  },
  {
   "cell_type": "markdown",
   "id": "8c651491",
   "metadata": {},
   "source": [
    "## 4변수 함수"
   ]
  },
  {
   "cell_type": "code",
   "execution_count": 26,
   "id": "1a8a2f1d",
   "metadata": {},
   "outputs": [],
   "source": [
    "#input_obj는 2X2행렬\n",
    "def func3(input_obj):\n",
    "    w = input_obj[0][0]\n",
    "    x = input_obj[0][1]\n",
    "    y = input_obj[1][0]\n",
    "    z = input_obj[1][1]\n",
    "    \n",
    "    return (w*x + x*y*z + 3*w + z*y*y)"
   ]
  },
  {
   "cell_type": "code",
   "execution_count": 27,
   "id": "704b08bc",
   "metadata": {},
   "outputs": [
    {
     "name": "stdout",
     "output_type": "stream",
     "text": [
      "debug 1. initial input variables= [[1. 2.]\n",
      " [3. 4.]]\n",
      "debug 2. initial grad = [[0. 0.]\n",
      " [0. 0.]]\n",
      "=====================================\n",
      "debug 3. idx = (0, 0) , x[idx] =  1.0\n",
      "debug 4. grad[idx] =  5.000000001587068\n",
      "debug 5. grad= [[5. 0.]\n",
      " [0. 0.]]\n",
      "debug 3. idx = (0, 1) , x[idx] =  2.0\n",
      "debug 4. grad[idx] =  12.999999995599865\n",
      "debug 5. grad= [[ 5. 13.]\n",
      " [ 0.  0.]]\n",
      "debug 3. idx = (1, 0) , x[idx] =  3.0\n",
      "debug 4. grad[idx] =  32.000000004472895\n",
      "debug 5. grad= [[ 5. 13.]\n",
      " [32.  0.]]\n",
      "debug 3. idx = (1, 1) , x[idx] =  4.0\n",
      "debug 4. grad[idx] =  14.99999999055035\n",
      "debug 5. grad= [[ 5.         13.        ]\n",
      " [32.         14.99999999]]\n"
     ]
    },
    {
     "data": {
      "text/plain": [
       "array([[ 5.        , 13.        ],\n",
       "       [32.        , 14.99999999]])"
      ]
     },
     "execution_count": 27,
     "metadata": {},
     "output_type": "execute_result"
    }
   ],
   "source": [
    "input = np.array([[1.0, 2.0], [3.0, 4.0]])\n",
    "numerical_derivative(func3, input)"
   ]
  }
 ],
 "metadata": {
  "kernelspec": {
   "display_name": "Python 3 (ipykernel)",
   "language": "python",
   "name": "python3"
  },
  "language_info": {
   "codemirror_mode": {
    "name": "ipython",
    "version": 3
   },
   "file_extension": ".py",
   "mimetype": "text/x-python",
   "name": "python",
   "nbconvert_exporter": "python",
   "pygments_lexer": "ipython3",
   "version": "3.9.7"
  }
 },
 "nbformat": 4,
 "nbformat_minor": 5
}
