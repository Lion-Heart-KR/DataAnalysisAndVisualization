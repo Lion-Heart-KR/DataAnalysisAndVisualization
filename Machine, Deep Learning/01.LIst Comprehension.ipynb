{
 "cells": [
  {
   "cell_type": "markdown",
   "id": "7abf15f3",
   "metadata": {},
   "source": [
    "# 01.List Comprehension"
   ]
  },
  {
   "cell_type": "code",
   "execution_count": 5,
   "id": "88fd66b4",
   "metadata": {},
   "outputs": [
    {
     "data": {
      "text/plain": [
       "[0, 1, 4, 9, 16]"
      ]
     },
     "execution_count": 5,
     "metadata": {},
     "output_type": "execute_result"
    }
   ],
   "source": [
    "list_square = [x**2 for x in range(5)]\n",
    "list_square"
   ]
  },
  {
   "cell_type": "code",
   "execution_count": 6,
   "id": "200cc747",
   "metadata": {},
   "outputs": [
    {
     "data": {
      "text/plain": [
       "[0, 1, 8, 27, 64]"
      ]
     },
     "execution_count": 6,
     "metadata": {},
     "output_type": "execute_result"
    }
   ],
   "source": [
    "list_triple = [x**3 for x in range(5)]\n",
    "list_triple"
   ]
  },
  {
   "cell_type": "code",
   "execution_count": 13,
   "id": "2008bfe8",
   "metadata": {},
   "outputs": [
    {
     "data": {
      "text/plain": [
       "[10, 20, 30, 40, 50]"
      ]
     },
     "execution_count": 13,
     "metadata": {},
     "output_type": "execute_result"
    }
   ],
   "source": [
    "raw_data = [[1,10], [2, 20], [3, 30], [4, 40], [5, 50]]\n",
    "all_data = [x for x in raw_data]\n",
    "all_data\n",
    "x_data = [x[0] for x in raw_data]\n",
    "x_data\n",
    "y_data = [x[1] for x in raw_data]\n",
    "y_data"
   ]
  },
  {
   "cell_type": "code",
   "execution_count": 31,
   "id": "113c733d",
   "metadata": {},
   "outputs": [
    {
     "data": {
      "text/plain": [
       "[[1, -1], [2, -2], [3, -3], [4, -4], [5, -5]]"
      ]
     },
     "execution_count": 31,
     "metadata": {},
     "output_type": "execute_result"
    }
   ],
   "source": [
    "list_1 = [1,2,3,4,5]\n",
    "list_2 = [-1, -2, -3, -4, -5]\n",
    "list_combined = [[x, list_2[idx]] for idx, x in enumerate(list_1)]\n",
    "list_combined"
   ]
  },
  {
   "cell_type": "markdown",
   "id": "d5c700fc",
   "metadata": {},
   "source": [
    "## Quiz\n",
    "0~10 사이의 짝수 값만 갖는 리스트를 list comprehension으로 구해라"
   ]
  },
  {
   "cell_type": "code",
   "execution_count": 39,
   "id": "d9db2f6c",
   "metadata": {},
   "outputs": [
    {
     "data": {
      "text/plain": [
       "[0, 2, 4, 6, 8]"
      ]
     },
     "execution_count": 39,
     "metadata": {},
     "output_type": "execute_result"
    }
   ],
   "source": [
    "list_even = [x for x in range(10) if x % 2 == 0]\n",
    "list_even"
   ]
  }
 ],
 "metadata": {
  "kernelspec": {
   "display_name": "Python 3 (ipykernel)",
   "language": "python",
   "name": "python3"
  },
  "language_info": {
   "codemirror_mode": {
    "name": "ipython",
    "version": 3
   },
   "file_extension": ".py",
   "mimetype": "text/x-python",
   "name": "python",
   "nbconvert_exporter": "python",
   "pygments_lexer": "ipython3",
   "version": "3.9.7"
  }
 },
 "nbformat": 4,
 "nbformat_minor": 5
}
