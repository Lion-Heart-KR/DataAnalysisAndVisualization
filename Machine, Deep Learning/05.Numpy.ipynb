{
 "cells": [
  {
   "cell_type": "markdown",
   "id": "f70f9704",
   "metadata": {},
   "source": [
    "# 05.Numpy"
   ]
  },
  {
   "cell_type": "code",
   "execution_count": 13,
   "id": "ae1445c6",
   "metadata": {},
   "outputs": [],
   "source": [
    "import numpy as np"
   ]
  },
  {
   "cell_type": "markdown",
   "id": "30143011",
   "metadata": {},
   "source": [
    "## 행렬 연산(np.array)"
   ]
  },
  {
   "cell_type": "code",
   "execution_count": 29,
   "id": "c429dce7",
   "metadata": {},
   "outputs": [
    {
     "name": "stdout",
     "output_type": "stream",
     "text": [
      "[[2 1]\n",
      " [1 1]]\n"
     ]
    },
    {
     "data": {
      "text/plain": [
       "array([[1, 1],\n",
       "       [1, 0]])"
      ]
     },
     "execution_count": 29,
     "metadata": {},
     "output_type": "execute_result"
    }
   ],
   "source": [
    "#행렬으로 표현해준다.\n",
    "A = np.array([ [1,0], [0,1] ])\n",
    "B = np.array([ [1,1], [1,0] ])\n",
    "\n",
    "print(A+B)"
   ]
  },
  {
   "cell_type": "code",
   "execution_count": 21,
   "id": "784c0b36",
   "metadata": {},
   "outputs": [
    {
     "data": {
      "text/plain": [
       "[[1, 0], [0, 1], [1, 1], [1, 0]]"
      ]
     },
     "execution_count": 21,
     "metadata": {},
     "output_type": "execute_result"
    }
   ],
   "source": [
    "# 일반 list의 경우 단순히 이어붙이기만 한다.\n",
    "A_list = [[1,0], [0,1]]\n",
    "B_list = [[1,1], [1,0]]\n",
    "A_list+B_list"
   ]
  },
  {
   "cell_type": "code",
   "execution_count": 30,
   "id": "ad6bbf4a",
   "metadata": {},
   "outputs": [
    {
     "name": "stdout",
     "output_type": "stream",
     "text": [
      "A ==  [1 2 3] B ==  [4 5 6]\n",
      "A.shape ==  (3,) B.shape ==  (3,)\n",
      "dimension of A :  1 dimension of B :  1\n"
     ]
    }
   ],
   "source": [
    "A = np.array([1,2,3])\n",
    "B = np.array([4,5,6])\n",
    "\n",
    "print(\"A == \", A, \"B == \", B)\n",
    "print(\"A.shape == \", A.shape, \"B.shape == \", B.shape)\n",
    "print(\"dimension of A : \", A.ndim, \"dimension of B : \", B.ndim)"
   ]
  },
  {
   "cell_type": "code",
   "execution_count": 34,
   "id": "33d5604c",
   "metadata": {},
   "outputs": [
    {
     "name": "stdout",
     "output_type": "stream",
     "text": [
      "[5 7 9]\n",
      "[-3 -3 -3]\n",
      "[ 4 10 18]\n",
      "[0.25 0.4  0.5 ]\n"
     ]
    }
   ],
   "source": [
    "print(A+B)\n",
    "print(A-B)\n",
    "print(A*B)\n",
    "print(A/B)"
   ]
  },
  {
   "cell_type": "code",
   "execution_count": 37,
   "id": "81194b37",
   "metadata": {},
   "outputs": [
    {
     "name": "stdout",
     "output_type": "stream",
     "text": [
      "A.shape: (2, 3) B.shape: (2, 3)\n",
      "dimension of A :  2 dimension of B :  2\n",
      "[[ 3  6  9]\n",
      " [12 15 18]]\n"
     ]
    }
   ],
   "source": [
    "A = np.array([[1,2,3], [4,5,6]]) #하나의 행을 하나의 대괄호로 표현함\n",
    "B = np.array([[3,3,3], [3,3,3]])\n",
    "\n",
    "print(\"A.shape:\", A.shape, \"B.shape:\", B.shape)\n",
    "print(\"dimension of A : \", A.ndim, \"dimension of B : \", B.ndim)\n",
    "print(A*B)"
   ]
  },
  {
   "cell_type": "markdown",
   "id": "7f5ff718",
   "metadata": {},
   "source": [
    "## 행, 열 변환"
   ]
  },
  {
   "cell_type": "code",
   "execution_count": 40,
   "id": "c58ef149",
   "metadata": {},
   "outputs": [
    {
     "name": "stdout",
     "output_type": "stream",
     "text": [
      "(3,)\n",
      "(1, 3)\n"
     ]
    }
   ],
   "source": [
    "C = np.array([1,2,3])\n",
    "print(C.shape)\n",
    "C = C.reshape(1,3)\n",
    "print(C.shape)"
   ]
  },
  {
   "cell_type": "code",
   "execution_count": 71,
   "id": "9985e201",
   "metadata": {},
   "outputs": [
    {
     "name": "stdout",
     "output_type": "stream",
     "text": [
      "[[1 2 3]\n",
      " [4 5 6]]\n",
      "행우선 변환 : \n",
      "[[1 2]\n",
      " [3 4]\n",
      " [5 6]]\n",
      "열우선 변환 : \n",
      "[[1 5]\n",
      " [4 3]\n",
      " [2 6]]\n"
     ]
    }
   ],
   "source": [
    "A = np.array([[1,2,3], [4,5,6]])\n",
    "print(A) #2행 3열 행렬\n",
    "print(\"행우선 변환 : \")\n",
    "print(np.reshape(A, (3, 2))) #행우선 변환\n",
    "print(\"열우선 변환 : \")\n",
    "print(np.reshape(A, (3, 2), order='F')) #열우선 저장"
   ]
  },
  {
   "cell_type": "markdown",
   "id": "1cc4a195",
   "metadata": {},
   "source": [
    "## 행렬 곱"
   ]
  },
  {
   "cell_type": "code",
   "execution_count": 74,
   "id": "d2f96e49",
   "metadata": {},
   "outputs": [
    {
     "name": "stdout",
     "output_type": "stream",
     "text": [
      "(2, 3) (3, 2)\n",
      "[[18 18]\n",
      " [45 45]]\n"
     ]
    }
   ],
   "source": [
    "A = np.array([[1,2,3],[4,5,6]])\n",
    "B = np.array([[3,3], [3,3], [3,3]])\n",
    "print(A.shape, B.shape)\n",
    "C = np.dot(A,B) #A행의 열과 B행의 행이 같아야 행렬곱이 가능하다. dot이 행렬곱임.\n",
    "#행렬곱의 결과는 A행의 행XB행의 열 이다.\n",
    "print(C)"
   ]
  },
  {
   "cell_type": "markdown",
   "id": "00c93cee",
   "metadata": {},
   "source": [
    "## 행렬곱 : Broadcast\n",
    "'사칙연산'에 대해서(not 행렬 곱) 두 개의 행렬 크기가 다르더라도, 사칙연산을 수행할 수 있게 해줌."
   ]
  },
  {
   "cell_type": "code",
   "execution_count": 75,
   "id": "fc4541d0",
   "metadata": {},
   "outputs": [
    {
     "name": "stdout",
     "output_type": "stream",
     "text": [
      "[[6 7]\n",
      " [8 9]]\n"
     ]
    }
   ],
   "source": [
    "A = np.array([[1,2],[3,4]])\n",
    "B = 5\n",
    "\n",
    "print(A+B)\n",
    "# [1 2] + 5 = [1, 2] + [5, 5]\n",
    "# [3 4]      [3, 4] + [5, 5]"
   ]
  },
  {
   "cell_type": "code",
   "execution_count": 78,
   "id": "0b3b643a",
   "metadata": {},
   "outputs": [
    {
     "name": "stdout",
     "output_type": "stream",
     "text": [
      "[[0 0]\n",
      " [2 2]]\n"
     ]
    }
   ],
   "source": [
    "A = np.array([[1,2],[3,4]])\n",
    "B = np.array([-1,-2])\n",
    "print(A+B)\n",
    "\n",
    "# [1 2] + [-1,-2] = [1, 2] + [-1, -2] = [0, 0]\n",
    "# [3 4]            [3, 4] + [-1, -2] = [2, 2]"
   ]
  },
  {
   "cell_type": "code",
   "execution_count": null,
   "id": "3605eb65",
   "metadata": {},
   "outputs": [],
   "source": []
  }
 ],
 "metadata": {
  "kernelspec": {
   "display_name": "Python 3 (ipykernel)",
   "language": "python",
   "name": "python3"
  },
  "language_info": {
   "codemirror_mode": {
    "name": "ipython",
    "version": 3
   },
   "file_extension": ".py",
   "mimetype": "text/x-python",
   "name": "python",
   "nbconvert_exporter": "python",
   "pygments_lexer": "ipython3",
   "version": "3.9.7"
  }
 },
 "nbformat": 4,
 "nbformat_minor": 5
}
