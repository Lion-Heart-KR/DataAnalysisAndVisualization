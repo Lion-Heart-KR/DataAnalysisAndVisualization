{
 "cells": [
  {
   "cell_type": "markdown",
   "id": "f70f9704",
   "metadata": {},
   "source": [
    "# 05.Numpy"
   ]
  },
  {
   "cell_type": "code",
   "execution_count": 1,
   "id": "ae1445c6",
   "metadata": {},
   "outputs": [],
   "source": [
    "import numpy as np"
   ]
  },
  {
   "cell_type": "markdown",
   "id": "30143011",
   "metadata": {},
   "source": [
    "## 행렬 연산(np.array)"
   ]
  },
  {
   "cell_type": "code",
   "execution_count": 2,
   "id": "c429dce7",
   "metadata": {},
   "outputs": [
    {
     "name": "stdout",
     "output_type": "stream",
     "text": [
      "[[2 1]\n",
      " [1 1]]\n"
     ]
    }
   ],
   "source": [
    "#행렬으로 표현해준다.\n",
    "A = np.array([ [1,0], [0,1] ])\n",
    "B = np.array([ [1,1], [1,0] ])\n",
    "\n",
    "print(A+B)"
   ]
  },
  {
   "cell_type": "code",
   "execution_count": 3,
   "id": "784c0b36",
   "metadata": {},
   "outputs": [
    {
     "data": {
      "text/plain": [
       "[[1, 0], [0, 1], [1, 1], [1, 0]]"
      ]
     },
     "execution_count": 3,
     "metadata": {},
     "output_type": "execute_result"
    }
   ],
   "source": [
    "# 일반 list의 경우 단순히 이어붙이기만 한다.\n",
    "A_list = [[1,0], [0,1]]\n",
    "B_list = [[1,1], [1,0]]\n",
    "A_list+B_list"
   ]
  },
  {
   "cell_type": "code",
   "execution_count": 4,
   "id": "ad6bbf4a",
   "metadata": {},
   "outputs": [
    {
     "name": "stdout",
     "output_type": "stream",
     "text": [
      "A ==  [1 2 3] B ==  [4 5 6]\n",
      "A.shape ==  (3,) B.shape ==  (3,)\n",
      "dimension of A :  1 dimension of B :  1\n"
     ]
    }
   ],
   "source": [
    "A = np.array([1,2,3])\n",
    "B = np.array([4,5,6])\n",
    "\n",
    "print(\"A == \", A, \"B == \", B)\n",
    "print(\"A.shape == \", A.shape, \"B.shape == \", B.shape)\n",
    "print(\"dimension of A : \", A.ndim, \"dimension of B : \", B.ndim)"
   ]
  },
  {
   "cell_type": "code",
   "execution_count": 5,
   "id": "33d5604c",
   "metadata": {},
   "outputs": [
    {
     "name": "stdout",
     "output_type": "stream",
     "text": [
      "[5 7 9]\n",
      "[-3 -3 -3]\n",
      "[ 4 10 18]\n",
      "[0.25 0.4  0.5 ]\n"
     ]
    }
   ],
   "source": [
    "print(A+B)\n",
    "print(A-B)\n",
    "print(A*B)\n",
    "print(A/B)"
   ]
  },
  {
   "cell_type": "code",
   "execution_count": 6,
   "id": "81194b37",
   "metadata": {},
   "outputs": [
    {
     "name": "stdout",
     "output_type": "stream",
     "text": [
      "A.shape: (2, 3) B.shape: (2, 3)\n",
      "dimension of A :  2 dimension of B :  2\n",
      "[[ 3  6  9]\n",
      " [12 15 18]]\n"
     ]
    }
   ],
   "source": [
    "A = np.array([[1,2,3], [4,5,6]]) #하나의 행을 하나의 대괄호로 표현함\n",
    "B = np.array([[3,3,3], [3,3,3]])\n",
    "\n",
    "print(\"A.shape:\", A.shape, \"B.shape:\", B.shape)\n",
    "print(\"dimension of A : \", A.ndim, \"dimension of B : \", B.ndim)\n",
    "print(A*B)"
   ]
  },
  {
   "cell_type": "markdown",
   "id": "7f5ff718",
   "metadata": {},
   "source": [
    "## 행, 열 변환"
   ]
  },
  {
   "cell_type": "code",
   "execution_count": 7,
   "id": "c58ef149",
   "metadata": {},
   "outputs": [
    {
     "name": "stdout",
     "output_type": "stream",
     "text": [
      "(3,)\n",
      "(1, 3)\n"
     ]
    }
   ],
   "source": [
    "C = np.array([1,2,3])\n",
    "print(C.shape)\n",
    "C = C.reshape(1,3)\n",
    "print(C.shape)"
   ]
  },
  {
   "cell_type": "code",
   "execution_count": 8,
   "id": "9985e201",
   "metadata": {},
   "outputs": [
    {
     "name": "stdout",
     "output_type": "stream",
     "text": [
      "[[1 2 3]\n",
      " [4 5 6]]\n",
      "행우선 변환 : \n",
      "[[1 2]\n",
      " [3 4]\n",
      " [5 6]]\n",
      "열우선 변환 : \n",
      "[[1 5]\n",
      " [4 3]\n",
      " [2 6]]\n"
     ]
    }
   ],
   "source": [
    "A = np.array([[1,2,3], [4,5,6]])\n",
    "print(A) #2행 3열 행렬\n",
    "print(\"행우선 변환 : \")\n",
    "print(np.reshape(A, (3, 2))) #행우선 변환\n",
    "print(\"열우선 변환 : \")\n",
    "print(np.reshape(A, (3, 2), order='F')) #열우선 저장"
   ]
  },
  {
   "cell_type": "markdown",
   "id": "1cc4a195",
   "metadata": {},
   "source": [
    "## 행렬 곱"
   ]
  },
  {
   "cell_type": "code",
   "execution_count": 9,
   "id": "d2f96e49",
   "metadata": {},
   "outputs": [
    {
     "name": "stdout",
     "output_type": "stream",
     "text": [
      "(2, 3) (3, 2)\n",
      "[[18 18]\n",
      " [45 45]]\n"
     ]
    }
   ],
   "source": [
    "A = np.array([[1,2,3],[4,5,6]])\n",
    "B = np.array([[3,3], [3,3], [3,3]])\n",
    "print(A.shape, B.shape)\n",
    "C = np.dot(A,B) #A행의 열과 B행의 행이 같아야 행렬곱이 가능하다. dot이 행렬곱임.\n",
    "#행렬곱의 결과는 A행의 행XB행의 열 이다.\n",
    "print(C)"
   ]
  },
  {
   "cell_type": "markdown",
   "id": "00c93cee",
   "metadata": {},
   "source": [
    "## Broadcast(사칙연산에만 적용)\n",
    "'사칙연산'에 대해서(not 행렬 곱) 두 개의 행렬 크기가 다르더라도, 사칙연산을 수행할 수 있게 해줌."
   ]
  },
  {
   "cell_type": "code",
   "execution_count": 10,
   "id": "fc4541d0",
   "metadata": {},
   "outputs": [
    {
     "name": "stdout",
     "output_type": "stream",
     "text": [
      "[[6 7]\n",
      " [8 9]]\n"
     ]
    }
   ],
   "source": [
    "A = np.array([[1,2],[3,4]])\n",
    "B = 5\n",
    "\n",
    "print(A+B)\n",
    "# [1 2] + 5 = [1, 2] + [5, 5]\n",
    "# [3 4]      [3, 4] + [5, 5]"
   ]
  },
  {
   "cell_type": "code",
   "execution_count": 11,
   "id": "0b3b643a",
   "metadata": {},
   "outputs": [
    {
     "name": "stdout",
     "output_type": "stream",
     "text": [
      "[[0 0]\n",
      " [2 2]]\n"
     ]
    }
   ],
   "source": [
    "A = np.array([[1,2],[3,4]])\n",
    "B = np.array([-1,-2])\n",
    "print(A+B)\n",
    "\n",
    "# [1 2] + [-1,-2] = [1, 2] + [-1, -2] = [0, 0]\n",
    "# [3 4]            [3, 4] + [-1, -2] = [2, 2]"
   ]
  },
  {
   "cell_type": "markdown",
   "id": "75c859b1",
   "metadata": {},
   "source": [
    "## 전치행렬\n",
    "행과 열을 바꿔줌\n",
    "A[i,j]를 A[j,i]로 바꿔줌"
   ]
  },
  {
   "cell_type": "code",
   "execution_count": 16,
   "id": "dc6120b4",
   "metadata": {},
   "outputs": [
    {
     "name": "stdout",
     "output_type": "stream",
     "text": [
      "[[1 2]\n",
      " [3 4]\n",
      " [5 6]]\n",
      "A shape :  (3, 2)\n",
      "\n",
      "[[1 3 5]\n",
      " [2 4 6]]\n",
      "B shape :  (2, 3)\n"
     ]
    }
   ],
   "source": [
    "A = np.array([[1,2], [3,4], [5,6]])\n",
    "B = A.T\n",
    "print(A)\n",
    "print(\"A shape : \",A.shape)\n",
    "print()\n",
    "print(B)\n",
    "print(\"B shape : \",B.shape)"
   ]
  },
  {
   "cell_type": "code",
   "execution_count": 18,
   "id": "87a34e22",
   "metadata": {},
   "outputs": [
    {
     "name": "stdout",
     "output_type": "stream",
     "text": [
      "[1 2 3 4 5]\n",
      "[1 2 3 4 5]\n"
     ]
    }
   ],
   "source": [
    "#vector에 Transpose를 하더라도 matrix로 변하지는 않는다.\n",
    "C = np.array([1,2,3,4,5])\n",
    "D = C.T\n",
    "print(C)\n",
    "print(D)"
   ]
  },
  {
   "cell_type": "code",
   "execution_count": 19,
   "id": "6d15462b",
   "metadata": {},
   "outputs": [
    {
     "name": "stdout",
     "output_type": "stream",
     "text": [
      "[[1 2 3 4 5]]\n",
      "[[1]\n",
      " [2]\n",
      " [3]\n",
      " [4]\n",
      " [5]]\n"
     ]
    }
   ],
   "source": [
    "E = np.array([[1,2,3,4,5]])\n",
    "F = E.T\n",
    "print(E)\n",
    "print(F)"
   ]
  },
  {
   "cell_type": "code",
   "execution_count": 23,
   "id": "572c0d19",
   "metadata": {},
   "outputs": [
    {
     "name": "stdout",
     "output_type": "stream",
     "text": [
      "[[1 2 3 4 5]]\n",
      "[[1]\n",
      " [2]\n",
      " [3]\n",
      " [4]\n",
      " [5]]\n"
     ]
    }
   ],
   "source": [
    "#reshape를 통해 matrix로 변환후 전치가 가능함\n",
    "G = np.array([1,2,3,4,5])\n",
    "G = G.reshape(1,5)\n",
    "print(G)\n",
    "H = G.T\n",
    "print(H)"
   ]
  },
  {
   "cell_type": "markdown",
   "id": "00b93d3a",
   "metadata": {},
   "source": [
    "## 행렬의 Indexing, slicing"
   ]
  },
  {
   "cell_type": "code",
   "execution_count": 24,
   "id": "a63d3def",
   "metadata": {},
   "outputs": [
    {
     "name": "stdout",
     "output_type": "stream",
     "text": [
      "[[10 20]\n",
      " [30 40]\n",
      " [50 60]]\n"
     ]
    }
   ],
   "source": [
    "A = np.array([10, 20, 30, 40, 50, 60]).reshape(3,2)\n",
    "print(A)"
   ]
  },
  {
   "cell_type": "code",
   "execution_count": 29,
   "id": "2bd6a886",
   "metadata": {},
   "outputs": [
    {
     "name": "stdout",
     "output_type": "stream",
     "text": [
      "10\n",
      "40\n",
      "50\n"
     ]
    }
   ],
   "source": [
    "print(A[0,0])\n",
    "print(A[1,1])\n",
    "print(A[2,0])"
   ]
  },
  {
   "cell_type": "code",
   "execution_count": 44,
   "id": "c7f32cfc",
   "metadata": {},
   "outputs": [
    {
     "name": "stdout",
     "output_type": "stream",
     "text": [
      "[[10 20]\n",
      " [30 40]\n",
      " [50 60]]\n"
     ]
    }
   ],
   "source": [
    "print(A[0:, -2:])"
   ]
  },
  {
   "cell_type": "code",
   "execution_count": 49,
   "id": "b86b7289",
   "metadata": {},
   "outputs": [
    {
     "name": "stdout",
     "output_type": "stream",
     "text": [
      "[[50 60]]\n"
     ]
    }
   ],
   "source": [
    "print(A[-1:, 0:])"
   ]
  },
  {
   "cell_type": "code",
   "execution_count": 50,
   "id": "638e408b",
   "metadata": {},
   "outputs": [
    {
     "name": "stdout",
     "output_type": "stream",
     "text": [
      "[[10 20]\n",
      " [30 40]\n",
      " [50 60]]\n"
     ]
    }
   ],
   "source": [
    "print(A[:,:])"
   ]
  },
  {
   "cell_type": "markdown",
   "id": "5ebac49d",
   "metadata": {},
   "source": [
    "## numpy - iterator\n",
    "행렬의 모든 원소에 access하는 경우"
   ]
  },
  {
   "cell_type": "code",
   "execution_count": 52,
   "id": "d15624c5",
   "metadata": {},
   "outputs": [
    {
     "name": "stdout",
     "output_type": "stream",
     "text": [
      "[[10 20 30 40]\n",
      " [50 60 70 80]]\n",
      "(2, 4)\n"
     ]
    }
   ],
   "source": [
    "A = np.array([[10, 20, 30, 40], [50, 60, 70, 80]])\n",
    "print(A)\n",
    "print(A.shape)"
   ]
  },
  {
   "cell_type": "code",
   "execution_count": 54,
   "id": "42abe234",
   "metadata": {},
   "outputs": [
    {
     "name": "stdout",
     "output_type": "stream",
     "text": [
      "10\n",
      "20\n",
      "30\n",
      "40\n",
      "50\n",
      "60\n",
      "70\n",
      "80\n"
     ]
    }
   ],
   "source": [
    "it = np.nditer(A, flags=['multi_index'], op_flags=['readwrite'])\n",
    "#행우선 접근\n",
    "while not it.finished:\n",
    "    idx = it.multi_index\n",
    "    print(A[idx])\n",
    "    it.iternext()"
   ]
  },
  {
   "cell_type": "code",
   "execution_count": 58,
   "id": "017dc8ba",
   "metadata": {},
   "outputs": [
    {
     "name": "stdout",
     "output_type": "stream",
     "text": [
      "False\n"
     ]
    }
   ],
   "source": [
    "it.reset()\n",
    "print(it.finished)"
   ]
  },
  {
   "cell_type": "code",
   "execution_count": null,
   "id": "b94e1960",
   "metadata": {},
   "outputs": [],
   "source": []
  },
  {
   "cell_type": "code",
   "execution_count": null,
   "id": "0f126b00",
   "metadata": {},
   "outputs": [],
   "source": []
  },
  {
   "cell_type": "code",
   "execution_count": null,
   "id": "9b351b07",
   "metadata": {},
   "outputs": [],
   "source": []
  },
  {
   "cell_type": "code",
   "execution_count": null,
   "id": "366631e1",
   "metadata": {},
   "outputs": [],
   "source": []
  },
  {
   "cell_type": "code",
   "execution_count": null,
   "id": "c400a1a6",
   "metadata": {},
   "outputs": [],
   "source": []
  },
  {
   "cell_type": "code",
   "execution_count": null,
   "id": "69738145",
   "metadata": {},
   "outputs": [],
   "source": []
  },
  {
   "cell_type": "code",
   "execution_count": null,
   "id": "821ba103",
   "metadata": {},
   "outputs": [],
   "source": []
  },
  {
   "cell_type": "code",
   "execution_count": null,
   "id": "c7fabf78",
   "metadata": {},
   "outputs": [],
   "source": []
  },
  {
   "cell_type": "code",
   "execution_count": null,
   "id": "70381304",
   "metadata": {},
   "outputs": [],
   "source": []
  }
 ],
 "metadata": {
  "kernelspec": {
   "display_name": "Python 3 (ipykernel)",
   "language": "python",
   "name": "python3"
  },
  "language_info": {
   "codemirror_mode": {
    "name": "ipython",
    "version": 3
   },
   "file_extension": ".py",
   "mimetype": "text/x-python",
   "name": "python",
   "nbconvert_exporter": "python",
   "pygments_lexer": "ipython3",
   "version": "3.9.7"
  }
 },
 "nbformat": 4,
 "nbformat_minor": 5
}
